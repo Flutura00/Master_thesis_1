{
 "cells": [
  {
   "cell_type": "code",
   "execution_count": 4,
   "outputs": [],
   "source": [
    "import datetime\n",
    "import h5py\n",
    "import numpy as np\n",
    "from matplotlib import pyplot as plt\n",
    "import pandas as pd\n",
    "from pathlib import Path\n",
    "import tables\n",
    "from tqdm import tqdm\n",
    "import math\n",
    "\n",
    "# learn dictionary .pop thiung!!!!!!!!!!!!!!!"
   ],
   "metadata": {
    "collapsed": false,
    "pycharm": {
     "name": "#%%\n"
    }
   }
  },
  {
   "cell_type": "markdown",
   "source": [],
   "metadata": {
    "collapsed": false,
    "pycharm": {
     "name": "#%% md\n"
    }
   }
  },
  {
   "cell_type": "code",
   "execution_count": 8,
   "outputs": [],
   "source": [
    "df = pd.read_hdf(r\"C:\\Users\\ag-bahl\\Desktop\\plaids\\data_preprocessed.hdf5\")"
   ],
   "metadata": {
    "collapsed": false,
    "pycharm": {
     "name": "#%%\n"
    }
   }
  },
  {
   "cell_type": "code",
   "execution_count": 15,
   "outputs": [
    {
     "data": {
      "text/plain": "numpy.float64"
     },
     "execution_count": 15,
     "metadata": {},
     "output_type": "execute_result"
    }
   ],
   "source": [
    "type(df['bout_orientation'][0])"
   ],
   "metadata": {
    "collapsed": false,
    "pycharm": {
     "name": "#%%\n"
    }
   }
  },
  {
   "cell_type": "code",
   "execution_count": 12,
   "outputs": [
    {
     "data": {
      "text/plain": "array([1, 0, 0, 1, 0, 0, 0, 0, 1, 0, 1, 1, 1, 0, 1, 1, 0, 0, 0, 1, 1, 1,\n       0, 1, 1, 0, 1, 0, 1, 1, 0, 1, 0, 0, 1])"
     },
     "execution_count": 12,
     "metadata": {},
     "output_type": "execute_result"
    }
   ],
   "source": [
    "rand_vals = np.random.randint(2, size=35)\n",
    "rand_vals"
   ],
   "metadata": {
    "collapsed": false,
    "pycharm": {
     "name": "#%%\n"
    }
   }
  },
  {
   "cell_type": "code",
   "execution_count": 9,
   "outputs": [
    {
     "data": {
      "text/plain": "         setup_index  arena_index  experiment_repeat  fish_ID  \\\n0                  2            1                  0        0   \n1                  2            1                  0        0   \n2                  2            1                  0        0   \n3                  2            1                  0        0   \n4                  2            1                  0        0   \n...              ...          ...                ...      ...   \n1484427            2            6                  0      262   \n1484428            2            6                  0      262   \n1484429            2            6                  0      262   \n1484430            2            6                  0      262   \n1484431            2            6                  0      262   \n\n                                 fish_name fish_genotype fish_age  \\\n0        2022-12-06_10-29-03_setup2_arena1            WT    5 dpf   \n1        2022-12-06_10-29-03_setup2_arena1            WT    5 dpf   \n2        2022-12-06_10-29-03_setup2_arena1            WT    5 dpf   \n3        2022-12-06_10-29-03_setup2_arena1            WT    5 dpf   \n4        2022-12-06_10-29-03_setup2_arena1            WT    5 dpf   \n...                                    ...           ...      ...   \n1484427  2022-12-15_14-26-30_setup2_arena6            WT    5 dpf   \n1484428  2022-12-15_14-26-30_setup2_arena6            WT    5 dpf   \n1484429  2022-12-15_14-26-30_setup2_arena6            WT    5 dpf   \n1484430  2022-12-15_14-26-30_setup2_arena6            WT    5 dpf   \n1484431  2022-12-15_14-26-30_setup2_arena6            WT    5 dpf   \n\n        stimulus_name  trial start_time  ...    radius       time left_bouts  \\\n0          60_plaid_0      1   1.371659  ...  0.584173   1.427214        1.0   \n1          60_plaid_0      1   2.004987  ...  0.601482   2.138319        1.0   \n2          60_plaid_0      1   3.071645  ...  0.636716   3.260532        1.0   \n3          60_plaid_0      1   4.093859  ...  0.693214   4.349412        0.0   \n4          60_plaid_0      1   5.604958  ...  0.717044   5.771623        1.0   \n...               ...    ...        ...  ...       ...        ...        ...   \n1484427   45_plaid_45      3  56.159754  ...  0.283521  56.315308        1.0   \n1484428   45_plaid_45      3  56.981969  ...  0.293212  57.137524        1.0   \n1484429   45_plaid_45      3  58.237515  ...  0.301996  58.381958        1.0   \n1484430   45_plaid_45      3  58.715289  ...  0.314863  58.870843        0.0   \n1484431   45_plaid_45      3  59.293062  ...  0.334444  59.459727        0.0   \n\n        right_bouts straight_bouts bout_orientation bout_orientation_absolute  \\\n0               0.0            0.0             -1.0                      -1.0   \n1               0.0            0.0             -1.0                      -1.0   \n2               0.0            0.0             -1.0                      -1.0   \n3               1.0            0.0              1.0                       1.0   \n4               0.0            0.0             -1.0                      -1.0   \n...             ...            ...              ...                       ...   \n1484427         0.0            0.0             -1.0                      -1.0   \n1484428         0.0            0.0             -1.0                      -1.0   \n1484429         0.0            0.0             -1.0                      -1.0   \n1484430         1.0            0.0              1.0                       1.0   \n1484431         0.0            1.0              0.0                      -1.0   \n\n         left_bouts_absolute  right_bouts_absolute ring_membership  \n0                        1.0                   0.0             3.0  \n1                        1.0                   0.0             3.0  \n2                        1.0                   0.0             4.0  \n3                        0.0                   1.0             4.0  \n4                        1.0                   0.0             5.0  \n...                      ...                   ...             ...  \n1484427                  1.0                   0.0             0.0  \n1484428                  1.0                   0.0             0.0  \n1484429                  1.0                   0.0             0.0  \n1484430                  0.0                   1.0             0.0  \n1484431                  1.0                   0.0             1.0  \n\n[1484432 rows x 43 columns]",
      "text/html": "<div>\n<style scoped>\n    .dataframe tbody tr th:only-of-type {\n        vertical-align: middle;\n    }\n\n    .dataframe tbody tr th {\n        vertical-align: top;\n    }\n\n    .dataframe thead th {\n        text-align: right;\n    }\n</style>\n<table border=\"1\" class=\"dataframe\">\n  <thead>\n    <tr style=\"text-align: right;\">\n      <th></th>\n      <th>setup_index</th>\n      <th>arena_index</th>\n      <th>experiment_repeat</th>\n      <th>fish_ID</th>\n      <th>fish_name</th>\n      <th>fish_genotype</th>\n      <th>fish_age</th>\n      <th>stimulus_name</th>\n      <th>trial</th>\n      <th>start_time</th>\n      <th>...</th>\n      <th>radius</th>\n      <th>time</th>\n      <th>left_bouts</th>\n      <th>right_bouts</th>\n      <th>straight_bouts</th>\n      <th>bout_orientation</th>\n      <th>bout_orientation_absolute</th>\n      <th>left_bouts_absolute</th>\n      <th>right_bouts_absolute</th>\n      <th>ring_membership</th>\n    </tr>\n  </thead>\n  <tbody>\n    <tr>\n      <th>0</th>\n      <td>2</td>\n      <td>1</td>\n      <td>0</td>\n      <td>0</td>\n      <td>2022-12-06_10-29-03_setup2_arena1</td>\n      <td>WT</td>\n      <td>5 dpf</td>\n      <td>60_plaid_0</td>\n      <td>1</td>\n      <td>1.371659</td>\n      <td>...</td>\n      <td>0.584173</td>\n      <td>1.427214</td>\n      <td>1.0</td>\n      <td>0.0</td>\n      <td>0.0</td>\n      <td>-1.0</td>\n      <td>-1.0</td>\n      <td>1.0</td>\n      <td>0.0</td>\n      <td>3.0</td>\n    </tr>\n    <tr>\n      <th>1</th>\n      <td>2</td>\n      <td>1</td>\n      <td>0</td>\n      <td>0</td>\n      <td>2022-12-06_10-29-03_setup2_arena1</td>\n      <td>WT</td>\n      <td>5 dpf</td>\n      <td>60_plaid_0</td>\n      <td>1</td>\n      <td>2.004987</td>\n      <td>...</td>\n      <td>0.601482</td>\n      <td>2.138319</td>\n      <td>1.0</td>\n      <td>0.0</td>\n      <td>0.0</td>\n      <td>-1.0</td>\n      <td>-1.0</td>\n      <td>1.0</td>\n      <td>0.0</td>\n      <td>3.0</td>\n    </tr>\n    <tr>\n      <th>2</th>\n      <td>2</td>\n      <td>1</td>\n      <td>0</td>\n      <td>0</td>\n      <td>2022-12-06_10-29-03_setup2_arena1</td>\n      <td>WT</td>\n      <td>5 dpf</td>\n      <td>60_plaid_0</td>\n      <td>1</td>\n      <td>3.071645</td>\n      <td>...</td>\n      <td>0.636716</td>\n      <td>3.260532</td>\n      <td>1.0</td>\n      <td>0.0</td>\n      <td>0.0</td>\n      <td>-1.0</td>\n      <td>-1.0</td>\n      <td>1.0</td>\n      <td>0.0</td>\n      <td>4.0</td>\n    </tr>\n    <tr>\n      <th>3</th>\n      <td>2</td>\n      <td>1</td>\n      <td>0</td>\n      <td>0</td>\n      <td>2022-12-06_10-29-03_setup2_arena1</td>\n      <td>WT</td>\n      <td>5 dpf</td>\n      <td>60_plaid_0</td>\n      <td>1</td>\n      <td>4.093859</td>\n      <td>...</td>\n      <td>0.693214</td>\n      <td>4.349412</td>\n      <td>0.0</td>\n      <td>1.0</td>\n      <td>0.0</td>\n      <td>1.0</td>\n      <td>1.0</td>\n      <td>0.0</td>\n      <td>1.0</td>\n      <td>4.0</td>\n    </tr>\n    <tr>\n      <th>4</th>\n      <td>2</td>\n      <td>1</td>\n      <td>0</td>\n      <td>0</td>\n      <td>2022-12-06_10-29-03_setup2_arena1</td>\n      <td>WT</td>\n      <td>5 dpf</td>\n      <td>60_plaid_0</td>\n      <td>1</td>\n      <td>5.604958</td>\n      <td>...</td>\n      <td>0.717044</td>\n      <td>5.771623</td>\n      <td>1.0</td>\n      <td>0.0</td>\n      <td>0.0</td>\n      <td>-1.0</td>\n      <td>-1.0</td>\n      <td>1.0</td>\n      <td>0.0</td>\n      <td>5.0</td>\n    </tr>\n    <tr>\n      <th>...</th>\n      <td>...</td>\n      <td>...</td>\n      <td>...</td>\n      <td>...</td>\n      <td>...</td>\n      <td>...</td>\n      <td>...</td>\n      <td>...</td>\n      <td>...</td>\n      <td>...</td>\n      <td>...</td>\n      <td>...</td>\n      <td>...</td>\n      <td>...</td>\n      <td>...</td>\n      <td>...</td>\n      <td>...</td>\n      <td>...</td>\n      <td>...</td>\n      <td>...</td>\n      <td>...</td>\n    </tr>\n    <tr>\n      <th>1484427</th>\n      <td>2</td>\n      <td>6</td>\n      <td>0</td>\n      <td>262</td>\n      <td>2022-12-15_14-26-30_setup2_arena6</td>\n      <td>WT</td>\n      <td>5 dpf</td>\n      <td>45_plaid_45</td>\n      <td>3</td>\n      <td>56.159754</td>\n      <td>...</td>\n      <td>0.283521</td>\n      <td>56.315308</td>\n      <td>1.0</td>\n      <td>0.0</td>\n      <td>0.0</td>\n      <td>-1.0</td>\n      <td>-1.0</td>\n      <td>1.0</td>\n      <td>0.0</td>\n      <td>0.0</td>\n    </tr>\n    <tr>\n      <th>1484428</th>\n      <td>2</td>\n      <td>6</td>\n      <td>0</td>\n      <td>262</td>\n      <td>2022-12-15_14-26-30_setup2_arena6</td>\n      <td>WT</td>\n      <td>5 dpf</td>\n      <td>45_plaid_45</td>\n      <td>3</td>\n      <td>56.981969</td>\n      <td>...</td>\n      <td>0.293212</td>\n      <td>57.137524</td>\n      <td>1.0</td>\n      <td>0.0</td>\n      <td>0.0</td>\n      <td>-1.0</td>\n      <td>-1.0</td>\n      <td>1.0</td>\n      <td>0.0</td>\n      <td>0.0</td>\n    </tr>\n    <tr>\n      <th>1484429</th>\n      <td>2</td>\n      <td>6</td>\n      <td>0</td>\n      <td>262</td>\n      <td>2022-12-15_14-26-30_setup2_arena6</td>\n      <td>WT</td>\n      <td>5 dpf</td>\n      <td>45_plaid_45</td>\n      <td>3</td>\n      <td>58.237515</td>\n      <td>...</td>\n      <td>0.301996</td>\n      <td>58.381958</td>\n      <td>1.0</td>\n      <td>0.0</td>\n      <td>0.0</td>\n      <td>-1.0</td>\n      <td>-1.0</td>\n      <td>1.0</td>\n      <td>0.0</td>\n      <td>0.0</td>\n    </tr>\n    <tr>\n      <th>1484430</th>\n      <td>2</td>\n      <td>6</td>\n      <td>0</td>\n      <td>262</td>\n      <td>2022-12-15_14-26-30_setup2_arena6</td>\n      <td>WT</td>\n      <td>5 dpf</td>\n      <td>45_plaid_45</td>\n      <td>3</td>\n      <td>58.715289</td>\n      <td>...</td>\n      <td>0.314863</td>\n      <td>58.870843</td>\n      <td>0.0</td>\n      <td>1.0</td>\n      <td>0.0</td>\n      <td>1.0</td>\n      <td>1.0</td>\n      <td>0.0</td>\n      <td>1.0</td>\n      <td>0.0</td>\n    </tr>\n    <tr>\n      <th>1484431</th>\n      <td>2</td>\n      <td>6</td>\n      <td>0</td>\n      <td>262</td>\n      <td>2022-12-15_14-26-30_setup2_arena6</td>\n      <td>WT</td>\n      <td>5 dpf</td>\n      <td>45_plaid_45</td>\n      <td>3</td>\n      <td>59.293062</td>\n      <td>...</td>\n      <td>0.334444</td>\n      <td>59.459727</td>\n      <td>0.0</td>\n      <td>0.0</td>\n      <td>1.0</td>\n      <td>0.0</td>\n      <td>-1.0</td>\n      <td>1.0</td>\n      <td>0.0</td>\n      <td>1.0</td>\n    </tr>\n  </tbody>\n</table>\n<p>1484432 rows × 43 columns</p>\n</div>"
     },
     "execution_count": 9,
     "metadata": {},
     "output_type": "execute_result"
    }
   ],
   "source": [
    "    def streak_length(self,angle_value,title_set):\n",
    "        list_of_directions = self.df['bout_orientation_absolute']\n",
    "        list_of_orientation = self.df['estimated_orientation_change']\n",
    "\n",
    "        list_of_streaks = []  # i save here the length of the streak, defined as a_streak\n",
    "        left_streak = 1\n",
    "        straight_streak = 1\n",
    "        right_streak = 1  # we keep track of each streak length here, and when the streak is done, we append it to the list_of_streaks. streak length is 1 if only one bout was done in that direction\n",
    "        for element in range(1, len(list_of_directions)):  # we start from one bcs we compare with 0th element\n",
    "            if ((list_of_directions[element - 1] == list_of_directions[element]) & (list_of_orientation[element]<-angle_value)):\n",
    "                left_streak +=1\n",
    "            elif ((list_of_directions[element - 1] == list_of_directions[element]) & (list_of_orientation[element]>angle_value)):\n",
    "                right_streak +=1\n",
    "            elif ((list_of_directions[element - 1] == list_of_directions[element]) & (abs(list_of_orientation[element])<angle_value)):\n",
    "                straight_streak+=1\n",
    "            else:\n",
    "                list_of_streaks.append(a_streak)\n",
    "                a_streak = 1\n",
    "        list_of_streaks.append(a_streak)\n",
    "        list_of_streaks = [x for x in list_of_streaks if x <= 20]\n",
    "        plt.rcParams[\"figure.figsize\"] = (20, 10)\n",
    "        plt.hist(list_of_streaks, bins=20)\n",
    "        plt.title(title_set)\n",
    "        plt.show()"
   ],
   "metadata": {
    "collapsed": false,
    "pycharm": {
     "name": "#%%\n"
    }
   }
  },
  {
   "cell_type": "code",
   "execution_count": null,
   "outputs": [],
   "source": [],
   "metadata": {
    "collapsed": false,
    "pycharm": {
     "name": "#%%\n"
    }
   }
  },
  {
   "cell_type": "code",
   "execution_count": 7,
   "outputs": [
    {
     "data": {
      "text/plain": "                   num_legs  num_wings\nanimal locomotion                     \ncat    walks              4          0\ndog    walks              4          0\nbat    flies              2          2",
      "text/html": "<div>\n<style scoped>\n    .dataframe tbody tr th:only-of-type {\n        vertical-align: middle;\n    }\n\n    .dataframe tbody tr th {\n        vertical-align: top;\n    }\n\n    .dataframe thead th {\n        text-align: right;\n    }\n</style>\n<table border=\"1\" class=\"dataframe\">\n  <thead>\n    <tr style=\"text-align: right;\">\n      <th></th>\n      <th></th>\n      <th>num_legs</th>\n      <th>num_wings</th>\n    </tr>\n    <tr>\n      <th>animal</th>\n      <th>locomotion</th>\n      <th></th>\n      <th></th>\n    </tr>\n  </thead>\n  <tbody>\n    <tr>\n      <th>cat</th>\n      <th>walks</th>\n      <td>4</td>\n      <td>0</td>\n    </tr>\n    <tr>\n      <th>dog</th>\n      <th>walks</th>\n      <td>4</td>\n      <td>0</td>\n    </tr>\n    <tr>\n      <th>bat</th>\n      <th>flies</th>\n      <td>2</td>\n      <td>2</td>\n    </tr>\n  </tbody>\n</table>\n</div>"
     },
     "execution_count": 7,
     "metadata": {},
     "output_type": "execute_result"
    }
   ],
   "source": [
    "# very cool:\n",
    "\"\"\"\n",
    "d = {'num_legs': [4, 4, 2, 2],\n",
    "     'num_wings': [0, 0, 2, 2],\n",
    "     'class': ['mammal', 'mammal', 'mammal', 'bird'],\n",
    "     'animal': ['cat', 'dog', 'bat', 'penguin'],\n",
    "     'locomotion': ['walks', 'walks', 'flies', 'walks']}\n",
    "df = pd.DataFrame(data=d)\n",
    "df = df.set_index(['class', 'animal', 'locomotion'])\n",
    "df.xs('mammal') \"\"\"\n"
   ],
   "metadata": {
    "collapsed": false,
    "pycharm": {
     "name": "#%%\n"
    }
   }
  },
  {
   "cell_type": "code",
   "execution_count": null,
   "outputs": [],
   "source": [],
   "metadata": {
    "collapsed": false,
    "pycharm": {
     "name": "#%%\n"
    }
   }
  }
 ],
 "metadata": {
  "kernelspec": {
   "display_name": "Python 3",
   "language": "python",
   "name": "python3"
  },
  "language_info": {
   "codemirror_mode": {
    "name": "ipython",
    "version": 2
   },
   "file_extension": ".py",
   "mimetype": "text/x-python",
   "name": "python",
   "nbconvert_exporter": "python",
   "pygments_lexer": "ipython2",
   "version": "2.7.6"
  }
 },
 "nbformat": 4,
 "nbformat_minor": 0
}