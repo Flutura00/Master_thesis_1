{
 "cells": [
  {
   "cell_type": "markdown",
   "source": [],
   "metadata": {
    "collapsed": false,
    "pycharm": {
     "name": "#%% md\n"
    }
   }
  },
  {
   "cell_type": "code",
   "execution_count": 1,
   "metadata": {
    "collapsed": true,
    "pycharm": {
     "name": "#%%\n"
    }
   },
   "outputs": [],
   "source": [
    "import datetime\n",
    "import h5py\n",
    "import numpy as np\n",
    "from matplotlib import pyplot as plt\n",
    "import pandas as pd\n",
    "from pathlib import Path\n",
    "import tables\n",
    "from tqdm import tqdm\n",
    "%matplotlib inline\n",
    "import random\n",
    "import math\n",
    "\n",
    "pd.options.mode.chained_assignment = None  # default='warn'"
   ]
  },
  {
   "cell_type": "code",
   "execution_count": null,
   "outputs": [],
   "source": [
    "# split the data into optimum gray and stimulus. - to generalize, you split it into optimum grey and stimulus, then branch out for all stimuli\n",
    "# but now apparently we have before and and after grey. so within a trial you have to identify each because they could be different\n",
    "# 2022-12-20_15-21-26_setup0_arena0\n",
    "# and for each stimulus there is a gray first, then one of the eight. I could also have absolute time!  but we have time within a trial already?\n",
    "# so within each fish. and we go through trials."
   ],
   "metadata": {
    "collapsed": false,
    "pycharm": {
     "name": "#%%\n"
    }
   }
  },
  {
   "cell_type": "markdown",
   "source": [
    "We have 3 dataframes, before during and after. then we can have 24 such dataframes, for before during after for each stimulus."
   ],
   "metadata": {
    "collapsed": false,
    "pycharm": {
     "name": "#%% md\n"
    }
   }
  },
  {
   "cell_type": "code",
   "execution_count": null,
   "outputs": [],
   "source": [
    "# then get a dataframe with streak lengths, for:\n",
    "# 1. All data\n",
    "# 2. Optimum gray only\n",
    "# 3. Plaids, or whatever stimulus.\n",
    "# you want 8 dataframes,\n",
    "# you want to know when in the 2 hours thew fish saw what ( check for randomnity if it worked and how many times the fish saw each stimulus in total. how many sampled for each stimulus we have in total)\n",
    "# you want to remove the stupid 3-hour experiments!!! ( remove 1 hour from them! )\n",
    "# you want to get the pair trials, grey then the stimulus, and for each trial, intependendly look at and compare what the fish was doing\n",
    "# then get the values, from Ashrit's functions as you got berfore, mean and sem through a trial\n",
    "# Then we get similar to Ashrit's function, every other variable that I consider important\n",
    "# Then histograms, loads hahaha - the turning angle distributions for each configuration\n",
    "# then measure the streak length, and first a histogram, then the CDF and PDF whatever.\n",
    "# and then for each combination of stimuli, you add this after you get 8 direction data...\n",
    "\n",
    "# one dataframe looks ar grey vs stimulus regardless of when it happened!  another has 3 different scenarios, before, during, after.\n"
   ],
   "metadata": {
    "collapsed": false,
    "pycharm": {
     "name": "#%%\n"
    }
   }
  },
  {
   "cell_type": "code",
   "execution_count": 52,
   "outputs": [
    {
     "name": "stdout",
     "output_type": "stream",
     "text": [
      "done all data\n"
     ]
    }
   ],
   "source": [
    "df = pd.read_hdf(r\"C:\\Users\\ag-bahl\\Desktop\\sine_gratings_8_directions\\data_preprocessed_sine_8.hdf5\")\n",
    "df.reset_index(inplace = True)\n",
    "print('done all data')\n",
    "df0 = df.sort_values(['fish_ID','start_time_absolute'], ascending=True)"
   ],
   "metadata": {
    "collapsed": false,
    "pycharm": {
     "name": "#%%\n"
    }
   }
  },
  {
   "cell_type": "code",
   "execution_count": 201,
   "outputs": [
    {
     "name": "stderr",
     "output_type": "stream",
     "text": [
      "100%|██████████| 595080/595080 [00:06<00:00, 94109.31it/s]\n"
     ]
    },
    {
     "name": "stdout",
     "output_type": "stream",
     "text": [
      "done separator\n"
     ]
    }
   ],
   "source": [
    "df # add column : 1,2,3 - first grey, sine grating, second grey,\n",
    "def separator(df):\n",
    "    sep_list = []\n",
    "    for i in tqdm(range(0,len(df))):\n",
    "        if ((df['time'][i]<10) or  (df['time'][i]>40)):\n",
    "            sep_list.append(1)\n",
    "        elif ((df['time'][i]>10) and (df['time'][i]<40)):\n",
    "            sep_list.append(2)\n",
    "        else:\n",
    "            sep_list.append(0)\n",
    "    df['separator'] = sep_list\n",
    "    print('done separator')\n",
    "    return df\n",
    "df =separator(df_sub)"
   ],
   "metadata": {
    "collapsed": false,
    "pycharm": {
     "name": "#%%\n"
    }
   }
  },
  {
   "cell_type": "code",
   "execution_count": 202,
   "outputs": [
    {
     "data": {
      "text/plain": "595080"
     },
     "execution_count": 202,
     "metadata": {},
     "output_type": "execute_result"
    }
   ],
   "source": [
    "len(df)"
   ],
   "metadata": {
    "collapsed": false,
    "pycharm": {
     "name": "#%%\n"
    }
   }
  },
  {
   "cell_type": "code",
   "execution_count": 203,
   "outputs": [],
   "source": [
    "df.sort_values(['fish_ID','index'], ascending=True,inplace = True)\n"
   ],
   "metadata": {
    "collapsed": false,
    "pycharm": {
     "name": "#%%\n"
    }
   }
  },
  {
   "cell_type": "code",
   "execution_count": 120,
   "outputs": [],
   "source": [
    "#list_of_directions = data['bout_orientation_absolute'].tolist()\n",
    "# we add that whenever fish id is changing we also change the streak length to 1.\n",
    "# do we care about streak length between trials and different stimulit, do we reset it?\n",
    "# we can also shuffle within fish and within trial or even within stimulus?\n",
    "# when we separate data into two dfs or 3, with the gray being left out you should also take care that they do not stitch together! this\n",
    "# will be already cared for when we design a function that considers fish id and\n",
    "# trial. so if we separate into many dataframes, then we will need to go through each trial and define which timepoints will reset the streak length. to make up for this stupid experiment, we stitch the 10 seconds of the last trial with the 10 of the next. so we have 20 seconds grey and 30 seconds stimulus.\n",
    "# so the list_of_directions in the end will be a list of lists, which the streak length function will go through by resetting the streak length every time a new list is iterated. whatever.\n",
    "# fish_ID, trial, time. # you set the time, the rest is automated. why trial? when we do no splitting, we reset the streak only when fish id changes.\n",
    "#  when we do the splitting, we get the timepoint windows that we want, except for the fish ids. in this case, we want timepoints from 40 to 10, and from 10 to 40. but separately.\n",
    "# numrat shkojne kshtu: 45,47,49,3,5,7,7,10,...,45,47,48,0,1,2,3\n",
    "\n",
    "def bouts_list(df):\n",
    "    list_of_fish_ids = df['fish_ID'].tolist() # you can also have a dataframe subset but it does not work with all the timepoint windows! you have thousands of trials!\n",
    "    list_of_all_dir = df['bout_orientation_absolute'] .tolist()\n",
    "    list_of_timepoints = df['time'].tolist()\n",
    "    trials = df['trial'].tolist()\n",
    "    borders = [10,40]\n",
    "    local_list = [list_of_timepoints[0]]\n",
    "    global_list = []\n",
    "    for i in range(1,len(list_of_timepoints)):\n",
    "        if ( ((list_of_timepoints[i-1]<borders[0]) and (list_of_timepoints[i]>borders[0])) or ((list_of_timepoints[i-1]<borders[1]) and (list_of_timepoints[i]>borders[1])) or ( (list_of_timepoints[i-1]>borders[1]) and (list_of_timepoints[i]>borders[0]) and (list_of_timepoints[i]<borders[1]) ) ):\n",
    "            global_list.append(local_list)\n",
    "            local_list = [list_of_all_dir[i]]\n",
    "        else:\n",
    "            local_list.append(list_of_all_dir[i])\n",
    "    global_list.append(local_list)\n",
    "    return global_list\n",
    "        # rasti kur mas 45 tjetra pergjigje osht 15. dmth sje tu kalu kufi  ne menyre eksplicite po je tu kalu kufi! nese vlera perpara osht mae madhe se 40, e ajo pas ma e vogel se 40, po ma e madhe se 10 lol\n",
    "    #if there is a cross in either border, you reset the list? compared to the value before?\n"
   ],
   "metadata": {
    "collapsed": false,
    "pycharm": {
     "name": "#%%\n"
    }
   }
  },
  {
   "cell_type": "code",
   "execution_count": 204,
   "outputs": [],
   "source": [
    "# here we assume the separator has already done its job!\n",
    "def bouts_list_v2(df):\n",
    "    list_of_fish_ids = df['fish_ID'].tolist() # you can also have a dataframe subset but it does not work with all the timepoint windows! you have thousands of trials!\n",
    "    list_of_all_dir = df['bout_orientation_absolute'] .tolist()\n",
    "    list_of_timepoints = df['time'].tolist()\n",
    "    trials = df['trial'].tolist()\n",
    "    separate = df['separator'].tolist()\n",
    "    borders = [10,40]\n",
    "    local_list = [list_of_timepoints[0]]\n",
    "    global_list = []\n",
    "    for i in range(1,len(df)):\n",
    "        if separate[i] !=separate[i-1]:\n",
    "            global_list.append(local_list)\n",
    "            local_list = [list_of_all_dir[i]]\n",
    "        elif separate[i] ==separate[i-1]:\n",
    "            local_list.append(list_of_all_dir[i])\n",
    "    global_list.append(local_list)\n",
    "    return global_list\n",
    "        # rasti kur mas 45 tjetra pergjigje osht 15. dmth sje tu kalu kufi  ne menyre eksplicite po je tu kalu kufi! nese vlera perpara osht mae madhe se 40, e ajo pas ma e vogel se 40, po ma e madhe se 10 lol\n",
    "    #if there is a cross in either border, you reset the list? compared to the value before?"
   ],
   "metadata": {
    "collapsed": false,
    "pycharm": {
     "name": "#%%\n"
    }
   }
  },
  {
   "cell_type": "code",
   "execution_count": 78,
   "outputs": [
    {
     "data": {
      "text/plain": "<Figure size 1440x720 with 1 Axes>",
      "image/png": "[encoded data removed]"
     },
     "metadata": {
      "needs_background": "light"
     },
     "output_type": "display_data"
    }
   ],
   "source": [
    "list_of_directions = df['bout_orientation_absolute']\n",
    "def streak_length(list_of_directions):\n",
    "    list_of_streaks = [] # i save here the length of the streak, defined as a_streak\n",
    "    a_streak = 1 # we keep track of each streak length here, and when the streak is done, we append it to the list_of_streaks. streak length is 1 if only one bout was done in that direction\n",
    "    for element in range(1,len(list_of_directions)): # we start from one bcs we compare with 0th element\n",
    "        if list_of_directions[element-1]==list_of_directions[element]:\n",
    "            a_streak += 1\n",
    "        else:\n",
    "            list_of_streaks.append(a_streak)\n",
    "            a_streak = 1\n",
    "    list_of_streaks.append(a_streak)\n",
    "    list_of_streaks = [x for x in list_of_streaks if x <= 20]\n",
    "    return list_of_streaks\n",
    "plt.rcParams[\"figure.figsize\"] = (20,10)\n",
    "plt.hist(streak_length(list_of_directions),bins = 20)\n",
    "plt.show()"
   ],
   "metadata": {
    "collapsed": false,
    "pycharm": {
     "name": "#%%\n"
    }
   }
  },
  {
   "cell_type": "code",
   "execution_count": null,
   "outputs": [],
   "source": [],
   "metadata": {
    "collapsed": false,
    "pycharm": {
     "name": "#%%\n"
    }
   }
  },
  {
   "cell_type": "code",
   "execution_count": 143,
   "outputs": [
    {
     "ename": "KeyError",
     "evalue": "0",
     "output_type": "error",
     "traceback": [
      "\u001B[1;31m---------------------------------------------------------------------------\u001B[0m",
      "\u001B[1;31mKeyError\u001B[0m                                  Traceback (most recent call last)",
      "File \u001B[1;32m~\\anaconda3\\envs\\py39\\lib\\site-packages\\pandas\\core\\indexes\\base.py:3621\u001B[0m, in \u001B[0;36mIndex.get_loc\u001B[1;34m(self, key, method, tolerance)\u001B[0m\n\u001B[0;32m   3620\u001B[0m \u001B[38;5;28;01mtry\u001B[39;00m:\n\u001B[1;32m-> 3621\u001B[0m     \u001B[38;5;28;01mreturn\u001B[39;00m \u001B[38;5;28;43mself\u001B[39;49m\u001B[38;5;241;43m.\u001B[39;49m\u001B[43m_engine\u001B[49m\u001B[38;5;241;43m.\u001B[39;49m\u001B[43mget_loc\u001B[49m\u001B[43m(\u001B[49m\u001B[43mcasted_key\u001B[49m\u001B[43m)\u001B[49m\n\u001B[0;32m   3622\u001B[0m \u001B[38;5;28;01mexcept\u001B[39;00m \u001B[38;5;167;01mKeyError\u001B[39;00m \u001B[38;5;28;01mas\u001B[39;00m err:\n",
      "File \u001B[1;32m~\\anaconda3\\envs\\py39\\lib\\site-packages\\pandas\\_libs\\index.pyx:136\u001B[0m, in \u001B[0;36mpandas._libs.index.IndexEngine.get_loc\u001B[1;34m()\u001B[0m\n",
      "File \u001B[1;32m~\\anaconda3\\envs\\py39\\lib\\site-packages\\pandas\\_libs\\index.pyx:163\u001B[0m, in \u001B[0;36mpandas._libs.index.IndexEngine.get_loc\u001B[1;34m()\u001B[0m\n",
      "File \u001B[1;32mpandas\\_libs\\hashtable_class_helper.pxi:5198\u001B[0m, in \u001B[0;36mpandas._libs.hashtable.PyObjectHashTable.get_item\u001B[1;34m()\u001B[0m\n",
      "File \u001B[1;32mpandas\\_libs\\hashtable_class_helper.pxi:5206\u001B[0m, in \u001B[0;36mpandas._libs.hashtable.PyObjectHashTable.get_item\u001B[1;34m()\u001B[0m\n",
      "\u001B[1;31mKeyError\u001B[0m: 0",
      "\nThe above exception was the direct cause of the following exception:\n",
      "\u001B[1;31mKeyError\u001B[0m                                  Traceback (most recent call last)",
      "Input \u001B[1;32mIn [143]\u001B[0m, in \u001B[0;36m<cell line: 16>\u001B[1;34m()\u001B[0m\n\u001B[0;32m     14\u001B[0m    \u001B[38;5;66;03m# list_of_streaks = [x for x in list_of_streaks if x <= 25]\u001B[39;00m\n\u001B[0;32m     15\u001B[0m     \u001B[38;5;28;01mreturn\u001B[39;00m list_of_streaks\n\u001B[1;32m---> 16\u001B[0m plt\u001B[38;5;241m.\u001B[39mhist(\u001B[43mstreak_length\u001B[49m\u001B[43m(\u001B[49m\u001B[43mdf\u001B[49m\u001B[43m)\u001B[49m, bins \u001B[38;5;241m=\u001B[39m \u001B[38;5;241m25\u001B[39m)\n",
      "Input \u001B[1;32mIn [125]\u001B[0m, in \u001B[0;36mstreak_length\u001B[1;34m(list_of_directions)\u001B[0m\n\u001B[0;32m      3\u001B[0m a_streak \u001B[38;5;241m=\u001B[39m \u001B[38;5;241m1\u001B[39m \u001B[38;5;66;03m# we keep track of each streak length here, and when the streak is done, we append it to the list_of_streaks. streak length is 1 if only one bout was done in that direction\u001B[39;00m\n\u001B[0;32m      4\u001B[0m \u001B[38;5;28;01mfor\u001B[39;00m element \u001B[38;5;129;01min\u001B[39;00m \u001B[38;5;28mrange\u001B[39m(\u001B[38;5;241m1\u001B[39m,\u001B[38;5;28mlen\u001B[39m(list_of_directions)): \u001B[38;5;66;03m# we start from one bcs we compare with 0th element\u001B[39;00m\n\u001B[1;32m----> 5\u001B[0m     \u001B[38;5;28;01mif\u001B[39;00m \u001B[43mlist_of_directions\u001B[49m\u001B[43m[\u001B[49m\u001B[43melement\u001B[49m\u001B[38;5;241;43m-\u001B[39;49m\u001B[38;5;241;43m1\u001B[39;49m\u001B[43m]\u001B[49m\u001B[38;5;241m==\u001B[39mlist_of_directions[element]:\n\u001B[0;32m      6\u001B[0m         a_streak \u001B[38;5;241m+\u001B[39m\u001B[38;5;241m=\u001B[39m \u001B[38;5;241m1\u001B[39m\n\u001B[0;32m      7\u001B[0m     \u001B[38;5;28;01melse\u001B[39;00m:\n",
      "File \u001B[1;32m~\\anaconda3\\envs\\py39\\lib\\site-packages\\pandas\\core\\frame.py:3505\u001B[0m, in \u001B[0;36mDataFrame.__getitem__\u001B[1;34m(self, key)\u001B[0m\n\u001B[0;32m   3503\u001B[0m \u001B[38;5;28;01mif\u001B[39;00m \u001B[38;5;28mself\u001B[39m\u001B[38;5;241m.\u001B[39mcolumns\u001B[38;5;241m.\u001B[39mnlevels \u001B[38;5;241m>\u001B[39m \u001B[38;5;241m1\u001B[39m:\n\u001B[0;32m   3504\u001B[0m     \u001B[38;5;28;01mreturn\u001B[39;00m \u001B[38;5;28mself\u001B[39m\u001B[38;5;241m.\u001B[39m_getitem_multilevel(key)\n\u001B[1;32m-> 3505\u001B[0m indexer \u001B[38;5;241m=\u001B[39m \u001B[38;5;28;43mself\u001B[39;49m\u001B[38;5;241;43m.\u001B[39;49m\u001B[43mcolumns\u001B[49m\u001B[38;5;241;43m.\u001B[39;49m\u001B[43mget_loc\u001B[49m\u001B[43m(\u001B[49m\u001B[43mkey\u001B[49m\u001B[43m)\u001B[49m\n\u001B[0;32m   3506\u001B[0m \u001B[38;5;28;01mif\u001B[39;00m is_integer(indexer):\n\u001B[0;32m   3507\u001B[0m     indexer \u001B[38;5;241m=\u001B[39m [indexer]\n",
      "File \u001B[1;32m~\\anaconda3\\envs\\py39\\lib\\site-packages\\pandas\\core\\indexes\\base.py:3623\u001B[0m, in \u001B[0;36mIndex.get_loc\u001B[1;34m(self, key, method, tolerance)\u001B[0m\n\u001B[0;32m   3621\u001B[0m     \u001B[38;5;28;01mreturn\u001B[39;00m \u001B[38;5;28mself\u001B[39m\u001B[38;5;241m.\u001B[39m_engine\u001B[38;5;241m.\u001B[39mget_loc(casted_key)\n\u001B[0;32m   3622\u001B[0m \u001B[38;5;28;01mexcept\u001B[39;00m \u001B[38;5;167;01mKeyError\u001B[39;00m \u001B[38;5;28;01mas\u001B[39;00m err:\n\u001B[1;32m-> 3623\u001B[0m     \u001B[38;5;28;01mraise\u001B[39;00m \u001B[38;5;167;01mKeyError\u001B[39;00m(key) \u001B[38;5;28;01mfrom\u001B[39;00m \u001B[38;5;21;01merr\u001B[39;00m\n\u001B[0;32m   3624\u001B[0m \u001B[38;5;28;01mexcept\u001B[39;00m \u001B[38;5;167;01mTypeError\u001B[39;00m:\n\u001B[0;32m   3625\u001B[0m     \u001B[38;5;66;03m# If we have a listlike key, _check_indexing_error will raise\u001B[39;00m\n\u001B[0;32m   3626\u001B[0m     \u001B[38;5;66;03m#  InvalidIndexError. Otherwise we fall through and re-raise\u001B[39;00m\n\u001B[0;32m   3627\u001B[0m     \u001B[38;5;66;03m#  the TypeError.\u001B[39;00m\n\u001B[0;32m   3628\u001B[0m     \u001B[38;5;28mself\u001B[39m\u001B[38;5;241m.\u001B[39m_check_indexing_error(key)\n",
      "\u001B[1;31mKeyError\u001B[0m: 0"
     ]
    }
   ],
   "source": [
    "def streak_length_v2(global_list):\n",
    "    list_of_streaks = [] # i save here the length of the streak, defined as a_streak\n",
    "    a_streak = 1 # we keep track of each streak length here, and when the streak is done, we append it to the list_of_streaks. streak length is 1 if only one bout was done in that direction\n",
    "    for list_of_directions in global_list():\n",
    "        for element in range(1,len(list_of_directions)): # we start from one bcs we compare with 0th element\n",
    "            if list_of_directions[element-1]==list_of_directions[element]:\n",
    "                a_streak += 1\n",
    "            else:\n",
    "                list_of_streaks.append(a_streak)\n",
    "                a_streak = 1\n",
    "        list_of_streaks.append(a_streak)\n",
    "        a_streak = 1\n",
    "    list_of_streaks.append((a_streak))\n",
    "   # list_of_streaks = [x for x in list_of_streaks if x <= 25]\n",
    "    return list_of_streaks\n",
    "plt.hist(streak_length(df), bins = 25)"
   ],
   "metadata": {
    "collapsed": false,
    "pycharm": {
     "name": "#%%\n"
    }
   }
  },
  {
   "cell_type": "code",
   "execution_count": null,
   "outputs": [],
   "source": [
    "# random and the others:\n",
    "#[1,1,1,-1,1,1,1,-1,1,-1,1,1,-1] # [3, 1, 3, 1, 1, 1, 2]\n",
    "#[3,1,3,1,1,1,2,1]\n",
    "\n",
    "#example 1: rlrlrlrl - only streaks of one, how does cdf look like\n",
    "#example 2: distribution of rrrlrrrlrrrl so biased on r\n",
    "#example 3: purely random distribution\n",
    "#\n",
    "# ones_zeroes = np.random.randint(2, size=10)\n",
    "\n",
    "# i choose proportion of ones and zeroes:\n",
    "# np.random.choice([0, 1], size=(10,), p=[1./3, 2./3])"
   ],
   "metadata": {
    "collapsed": false,
    "pycharm": {
     "name": "#%%\n"
    }
   }
  }
 ],
 "metadata": {
  "kernelspec": {
   "display_name": "Python 3",
   "language": "python",
   "name": "python3"
  },
  "language_info": {
   "codemirror_mode": {
    "name": "ipython",
    "version": 2
   },
   "file_extension": ".py",
   "mimetype": "text/x-python",
   "name": "python",
   "nbconvert_exporter": "python",
   "pygments_lexer": "ipython2",
   "version": "2.7.6"
  }
 },
 "nbformat": 4,
 "nbformat_minor": 0
}