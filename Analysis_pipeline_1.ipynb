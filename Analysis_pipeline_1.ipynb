{
 "cells": [
  {
   "cell_type": "code",
   "execution_count": 1,
   "metadata": {
    "collapsed": true,
    "pycharm": {
     "name": "#%%\n"
    }
   },
   "outputs": [],
   "source": [
    "import datetime\n",
    "import h5py\n",
    "import numpy as np\n",
    "from matplotlib import pyplot as plt\n",
    "import pandas as pd\n",
    "from pathlib import Path\n",
    "import tables\n",
    "from tqdm import tqdm\n",
    "pd.options.mode.chained_assignment = None  # default='warn'"
   ]
  },
  {
   "cell_type": "code",
   "execution_count": 2,
   "outputs": [
    {
     "name": "stdout",
     "output_type": "stream",
     "text": [
      "done all data\n"
     ]
    },
    {
     "name": "stderr",
     "output_type": "stream",
     "text": [
      "C:\\Users\\ag-bahl\\AppData\\Local\\Temp\\ipykernel_6624\\2769563268.py:1: DtypeWarning: Columns (6) have mixed types. Specify dtype option on import or set low_memory=False.\n",
      "  all_data= pd.read_csv(r\"C:\\Users\\ag-bahl\\Desktop\\\\all_dataframes_stimulus_09_11.csv\")\n"
     ]
    }
   ],
   "source": [
    "all_data= pd.read_csv(r\"C:\\Users\\ag-bahl\\Desktop\\\\all_dataframes_stimulus_09_11.csv\")\n",
    "print('done all data')"
   ],
   "metadata": {
    "collapsed": false,
    "pycharm": {
     "name": "#%%\n"
    }
   }
  },
  {
   "cell_type": "code",
   "execution_count": 3,
   "outputs": [
    {
     "data": {
      "text/plain": "        setup_index  arena_index  experiment_repeat  fish_ID  \\\n0                 0            0                  0       16   \n1                 0            0                  0       16   \n2                 0            0                  0       16   \n3                 0            0                  0       16   \n4                 0            0                  0       16   \n...             ...          ...                ...      ...   \n474919            1            6                  0      152   \n474920            1            6                  0      152   \n474921            1            6                  0      152   \n474922            1            6                  0      152   \n474923            1            6                  0      152   \n\n                                fish_name fish_genotype fish_age  \\\n0       2022-11-09_17-20-25_setup0_arena0            WT    5 dpf   \n1       2022-11-09_17-20-25_setup0_arena0            WT    5 dpf   \n2       2022-11-09_17-20-25_setup0_arena0            WT    5 dpf   \n3       2022-11-09_17-20-25_setup0_arena0            WT    5 dpf   \n4       2022-11-09_17-20-25_setup0_arena0            WT    5 dpf   \n...                                   ...           ...      ...   \n474919  2022-12-06_17-56-31_setup1_arena6            WT    5 dpf   \n474920  2022-12-06_17-56-31_setup1_arena6            WT    5 dpf   \n474921  2022-12-06_17-56-31_setup1_arena6            WT    5 dpf   \n474922  2022-12-06_17-56-31_setup1_arena6            WT    5 dpf   \n474923  2022-12-06_17-56-31_setup1_arena6            WT    5 dpf   \n\n       stimulus_name  trial  start_time  ...  y_position_change  \\\n0         60_plaid_0      3   32.899434  ...                NaN   \n1         60_plaid_0      3   34.877196  ...          -0.022065   \n2         60_plaid_0      4   19.086126  ...           0.002245   \n3         60_plaid_0      4   20.141673  ...          -0.000932   \n4         60_plaid_0      4   20.908333  ...           0.000406   \n...              ...    ...         ...  ...                ...   \n474919    60_plaid_0     41   15.778921  ...           0.000500   \n474920    60_plaid_0     41   15.923364  ...           0.000073   \n474921    60_plaid_0     41   17.212243  ...           0.000142   \n474922    60_plaid_0     41   17.945570  ...           0.000078   \n474923    60_plaid_0     41   18.912229  ...           0.000365   \n\n        distance_change  estimated_orientation_change  average_speed  \\\n0                   NaN                           NaN            NaN   \n1              0.031111                     58.890305       0.215385   \n2              0.036542                     70.626675       0.205551   \n3              0.007229                      6.385437       0.162663   \n4              0.006540                      5.680229       0.147150   \n...                 ...                           ...            ...   \n474919         0.004179                      0.300847       0.075214   \n474920         0.007753                     -0.624565       0.063431   \n474921         0.010726                      0.704548       0.080444   \n474922         0.005362                     -0.477687       0.096525   \n474923         0.007513                      0.114023       0.112703   \n\n        interbout_interval  same_direction_as_previous_bout  \\\n0                      NaN                              NaN   \n1                 1.911096                              0.0   \n2                44.066309                              1.0   \n3                 0.877771                              1.0   \n4                 0.722216                              1.0   \n...                    ...                              ...   \n474919            0.433330                              1.0   \n474920            0.088888                              0.0   \n474921            1.166657                              0.0   \n474922            0.599995                              0.0   \n474923            0.911104                              0.0   \n\n                        start_time_absolute  \\\n0       2022-11-09 17:23:58.383394560+01:00   \n1       2022-11-09 17:24:00.361156352+01:00   \n2       2022-11-09 17:24:44.571908864+01:00   \n3          2022-11-09 17:24:45.627456+01:00   \n4       2022-11-09 17:24:46.394116352+01:00   \n...                                     ...   \n474919  2022-12-06 18:37:47.147084032+01:00   \n474920  2022-12-06 18:37:47.291527168+01:00   \n474921  2022-12-06 18:37:48.580405760+01:00   \n474922  2022-12-06 18:37:49.313733120+01:00   \n474923  2022-12-06 18:37:50.280391936+01:00   \n\n                          end_time_absolute  \\\n0       2022-11-09 17:23:58.450060544+01:00   \n1       2022-11-09 17:24:00.505599488+01:00   \n2       2022-11-09 17:24:44.749685248+01:00   \n3       2022-11-09 17:24:45.671900160+01:00   \n4       2022-11-09 17:24:46.438560512+01:00   \n...                                     ...   \n474919  2022-12-06 18:37:47.202639104+01:00   \n474920  2022-12-06 18:37:47.413748480+01:00   \n474921  2022-12-06 18:37:48.713737984+01:00   \n474922  2022-12-06 18:37:49.369288192+01:00   \n474923  2022-12-06 18:37:50.347058176+01:00   \n\n        start_accumulated_orientation_windowed_variance  \\\n0                                                   NaN   \n1                                                   NaN   \n2                                                   NaN   \n3                                                   NaN   \n4                                                   NaN   \n...                                                 ...   \n474919                                         2.499966   \n474920                                         2.155910   \n474921                                         2.555698   \n474922                                         2.203824   \n474923                                         2.209414   \n\n        end_accumulated_orientation_windowed_variance  \n0                                                 NaN  \n1                                                 NaN  \n2                                                 NaN  \n3                                                 NaN  \n4                                                 NaN  \n...                                               ...  \n474919                                       1.164014  \n474920                                       1.396932  \n474921                                       1.155737  \n474922                                       1.392054  \n474923                                       1.303814  \n\n[474924 rows x 33 columns]",
      "text/html": "<div>\n<style scoped>\n    .dataframe tbody tr th:only-of-type {\n        vertical-align: middle;\n    }\n\n    .dataframe tbody tr th {\n        vertical-align: top;\n    }\n\n    .dataframe thead th {\n        text-align: right;\n    }\n</style>\n<table border=\"1\" class=\"dataframe\">\n  <thead>\n    <tr style=\"text-align: right;\">\n      <th></th>\n      <th>setup_index</th>\n      <th>arena_index</th>\n      <th>experiment_repeat</th>\n      <th>fish_ID</th>\n      <th>fish_name</th>\n      <th>fish_genotype</th>\n      <th>fish_age</th>\n      <th>stimulus_name</th>\n      <th>trial</th>\n      <th>start_time</th>\n      <th>...</th>\n      <th>y_position_change</th>\n      <th>distance_change</th>\n      <th>estimated_orientation_change</th>\n      <th>average_speed</th>\n      <th>interbout_interval</th>\n      <th>same_direction_as_previous_bout</th>\n      <th>start_time_absolute</th>\n      <th>end_time_absolute</th>\n      <th>start_accumulated_orientation_windowed_variance</th>\n      <th>end_accumulated_orientation_windowed_variance</th>\n    </tr>\n  </thead>\n  <tbody>\n    <tr>\n      <th>0</th>\n      <td>0</td>\n      <td>0</td>\n      <td>0</td>\n      <td>16</td>\n      <td>2022-11-09_17-20-25_setup0_arena0</td>\n      <td>WT</td>\n      <td>5 dpf</td>\n      <td>60_plaid_0</td>\n      <td>3</td>\n      <td>32.899434</td>\n      <td>...</td>\n      <td>NaN</td>\n      <td>NaN</td>\n      <td>NaN</td>\n      <td>NaN</td>\n      <td>NaN</td>\n      <td>NaN</td>\n      <td>2022-11-09 17:23:58.383394560+01:00</td>\n      <td>2022-11-09 17:23:58.450060544+01:00</td>\n      <td>NaN</td>\n      <td>NaN</td>\n    </tr>\n    <tr>\n      <th>1</th>\n      <td>0</td>\n      <td>0</td>\n      <td>0</td>\n      <td>16</td>\n      <td>2022-11-09_17-20-25_setup0_arena0</td>\n      <td>WT</td>\n      <td>5 dpf</td>\n      <td>60_plaid_0</td>\n      <td>3</td>\n      <td>34.877196</td>\n      <td>...</td>\n      <td>-0.022065</td>\n      <td>0.031111</td>\n      <td>58.890305</td>\n      <td>0.215385</td>\n      <td>1.911096</td>\n      <td>0.0</td>\n      <td>2022-11-09 17:24:00.361156352+01:00</td>\n      <td>2022-11-09 17:24:00.505599488+01:00</td>\n      <td>NaN</td>\n      <td>NaN</td>\n    </tr>\n    <tr>\n      <th>2</th>\n      <td>0</td>\n      <td>0</td>\n      <td>0</td>\n      <td>16</td>\n      <td>2022-11-09_17-20-25_setup0_arena0</td>\n      <td>WT</td>\n      <td>5 dpf</td>\n      <td>60_plaid_0</td>\n      <td>4</td>\n      <td>19.086126</td>\n      <td>...</td>\n      <td>0.002245</td>\n      <td>0.036542</td>\n      <td>70.626675</td>\n      <td>0.205551</td>\n      <td>44.066309</td>\n      <td>1.0</td>\n      <td>2022-11-09 17:24:44.571908864+01:00</td>\n      <td>2022-11-09 17:24:44.749685248+01:00</td>\n      <td>NaN</td>\n      <td>NaN</td>\n    </tr>\n    <tr>\n      <th>3</th>\n      <td>0</td>\n      <td>0</td>\n      <td>0</td>\n      <td>16</td>\n      <td>2022-11-09_17-20-25_setup0_arena0</td>\n      <td>WT</td>\n      <td>5 dpf</td>\n      <td>60_plaid_0</td>\n      <td>4</td>\n      <td>20.141673</td>\n      <td>...</td>\n      <td>-0.000932</td>\n      <td>0.007229</td>\n      <td>6.385437</td>\n      <td>0.162663</td>\n      <td>0.877771</td>\n      <td>1.0</td>\n      <td>2022-11-09 17:24:45.627456+01:00</td>\n      <td>2022-11-09 17:24:45.671900160+01:00</td>\n      <td>NaN</td>\n      <td>NaN</td>\n    </tr>\n    <tr>\n      <th>4</th>\n      <td>0</td>\n      <td>0</td>\n      <td>0</td>\n      <td>16</td>\n      <td>2022-11-09_17-20-25_setup0_arena0</td>\n      <td>WT</td>\n      <td>5 dpf</td>\n      <td>60_plaid_0</td>\n      <td>4</td>\n      <td>20.908333</td>\n      <td>...</td>\n      <td>0.000406</td>\n      <td>0.006540</td>\n      <td>5.680229</td>\n      <td>0.147150</td>\n      <td>0.722216</td>\n      <td>1.0</td>\n      <td>2022-11-09 17:24:46.394116352+01:00</td>\n      <td>2022-11-09 17:24:46.438560512+01:00</td>\n      <td>NaN</td>\n      <td>NaN</td>\n    </tr>\n    <tr>\n      <th>...</th>\n      <td>...</td>\n      <td>...</td>\n      <td>...</td>\n      <td>...</td>\n      <td>...</td>\n      <td>...</td>\n      <td>...</td>\n      <td>...</td>\n      <td>...</td>\n      <td>...</td>\n      <td>...</td>\n      <td>...</td>\n      <td>...</td>\n      <td>...</td>\n      <td>...</td>\n      <td>...</td>\n      <td>...</td>\n      <td>...</td>\n      <td>...</td>\n      <td>...</td>\n      <td>...</td>\n    </tr>\n    <tr>\n      <th>474919</th>\n      <td>1</td>\n      <td>6</td>\n      <td>0</td>\n      <td>152</td>\n      <td>2022-12-06_17-56-31_setup1_arena6</td>\n      <td>WT</td>\n      <td>5 dpf</td>\n      <td>60_plaid_0</td>\n      <td>41</td>\n      <td>15.778921</td>\n      <td>...</td>\n      <td>0.000500</td>\n      <td>0.004179</td>\n      <td>0.300847</td>\n      <td>0.075214</td>\n      <td>0.433330</td>\n      <td>1.0</td>\n      <td>2022-12-06 18:37:47.147084032+01:00</td>\n      <td>2022-12-06 18:37:47.202639104+01:00</td>\n      <td>2.499966</td>\n      <td>1.164014</td>\n    </tr>\n    <tr>\n      <th>474920</th>\n      <td>1</td>\n      <td>6</td>\n      <td>0</td>\n      <td>152</td>\n      <td>2022-12-06_17-56-31_setup1_arena6</td>\n      <td>WT</td>\n      <td>5 dpf</td>\n      <td>60_plaid_0</td>\n      <td>41</td>\n      <td>15.923364</td>\n      <td>...</td>\n      <td>0.000073</td>\n      <td>0.007753</td>\n      <td>-0.624565</td>\n      <td>0.063431</td>\n      <td>0.088888</td>\n      <td>0.0</td>\n      <td>2022-12-06 18:37:47.291527168+01:00</td>\n      <td>2022-12-06 18:37:47.413748480+01:00</td>\n      <td>2.155910</td>\n      <td>1.396932</td>\n    </tr>\n    <tr>\n      <th>474921</th>\n      <td>1</td>\n      <td>6</td>\n      <td>0</td>\n      <td>152</td>\n      <td>2022-12-06_17-56-31_setup1_arena6</td>\n      <td>WT</td>\n      <td>5 dpf</td>\n      <td>60_plaid_0</td>\n      <td>41</td>\n      <td>17.212243</td>\n      <td>...</td>\n      <td>0.000142</td>\n      <td>0.010726</td>\n      <td>0.704548</td>\n      <td>0.080444</td>\n      <td>1.166657</td>\n      <td>0.0</td>\n      <td>2022-12-06 18:37:48.580405760+01:00</td>\n      <td>2022-12-06 18:37:48.713737984+01:00</td>\n      <td>2.555698</td>\n      <td>1.155737</td>\n    </tr>\n    <tr>\n      <th>474922</th>\n      <td>1</td>\n      <td>6</td>\n      <td>0</td>\n      <td>152</td>\n      <td>2022-12-06_17-56-31_setup1_arena6</td>\n      <td>WT</td>\n      <td>5 dpf</td>\n      <td>60_plaid_0</td>\n      <td>41</td>\n      <td>17.945570</td>\n      <td>...</td>\n      <td>0.000078</td>\n      <td>0.005362</td>\n      <td>-0.477687</td>\n      <td>0.096525</td>\n      <td>0.599995</td>\n      <td>0.0</td>\n      <td>2022-12-06 18:37:49.313733120+01:00</td>\n      <td>2022-12-06 18:37:49.369288192+01:00</td>\n      <td>2.203824</td>\n      <td>1.392054</td>\n    </tr>\n    <tr>\n      <th>474923</th>\n      <td>1</td>\n      <td>6</td>\n      <td>0</td>\n      <td>152</td>\n      <td>2022-12-06_17-56-31_setup1_arena6</td>\n      <td>WT</td>\n      <td>5 dpf</td>\n      <td>60_plaid_0</td>\n      <td>41</td>\n      <td>18.912229</td>\n      <td>...</td>\n      <td>0.000365</td>\n      <td>0.007513</td>\n      <td>0.114023</td>\n      <td>0.112703</td>\n      <td>0.911104</td>\n      <td>0.0</td>\n      <td>2022-12-06 18:37:50.280391936+01:00</td>\n      <td>2022-12-06 18:37:50.347058176+01:00</td>\n      <td>2.209414</td>\n      <td>1.303814</td>\n    </tr>\n  </tbody>\n</table>\n<p>474924 rows × 33 columns</p>\n</div>"
     },
     "execution_count": 3,
     "metadata": {},
     "output_type": "execute_result"
    }
   ],
   "source": [
    "all_data"
   ],
   "metadata": {
    "collapsed": false,
    "pycharm": {
     "name": "#%%\n"
    }
   }
  },
  {
   "cell_type": "code",
   "execution_count": 4,
   "outputs": [
    {
     "data": {
      "text/plain": "        setup_index  arena_index  experiment_repeat  fish_ID  \\\n0                 0            0                  0       16   \n1                 0            0                  0       16   \n2                 0            0                  0       16   \n3                 0            0                  0       16   \n4                 0            0                  0       16   \n...             ...          ...                ...      ...   \n474919            1            6                  0      152   \n474920            1            6                  0      152   \n474921            1            6                  0      152   \n474922            1            6                  0      152   \n474923            1            6                  0      152   \n\n                                fish_name fish_genotype fish_age  \\\n0       2022-11-09_17-20-25_setup0_arena0            WT    5 dpf   \n1       2022-11-09_17-20-25_setup0_arena0            WT    5 dpf   \n2       2022-11-09_17-20-25_setup0_arena0            WT    5 dpf   \n3       2022-11-09_17-20-25_setup0_arena0            WT    5 dpf   \n4       2022-11-09_17-20-25_setup0_arena0            WT    5 dpf   \n...                                   ...           ...      ...   \n474919  2022-12-06_17-56-31_setup1_arena6            WT    5 dpf   \n474920  2022-12-06_17-56-31_setup1_arena6            WT    5 dpf   \n474921  2022-12-06_17-56-31_setup1_arena6            WT    5 dpf   \n474922  2022-12-06_17-56-31_setup1_arena6            WT    5 dpf   \n474923  2022-12-06_17-56-31_setup1_arena6            WT    5 dpf   \n\n       stimulus_name  trial  start_time  ...  y_position_change  \\\n0         60_plaid_0      3   32.899434  ...                NaN   \n1         60_plaid_0      3   34.877196  ...          -0.022065   \n2         60_plaid_0      4   19.086126  ...           0.002245   \n3         60_plaid_0      4   20.141673  ...          -0.000932   \n4         60_plaid_0      4   20.908333  ...           0.000406   \n...              ...    ...         ...  ...                ...   \n474919    60_plaid_0     41   15.778921  ...           0.000500   \n474920    60_plaid_0     41   15.923364  ...           0.000073   \n474921    60_plaid_0     41   17.212243  ...           0.000142   \n474922    60_plaid_0     41   17.945570  ...           0.000078   \n474923    60_plaid_0     41   18.912229  ...           0.000365   \n\n        distance_change  estimated_orientation_change  average_speed  \\\n0                   NaN                           NaN            NaN   \n1              0.031111                     58.890305       0.215385   \n2              0.036542                     70.626675       0.205551   \n3              0.007229                      6.385437       0.162663   \n4              0.006540                      5.680229       0.147150   \n...                 ...                           ...            ...   \n474919         0.004179                      0.300847       0.075214   \n474920         0.007753                     -0.624565       0.063431   \n474921         0.010726                      0.704548       0.080444   \n474922         0.005362                     -0.477687       0.096525   \n474923         0.007513                      0.114023       0.112703   \n\n        interbout_interval  same_direction_as_previous_bout  \\\n0                      NaN                              NaN   \n1                 1.911096                              0.0   \n2                44.066309                              1.0   \n3                 0.877771                              1.0   \n4                 0.722216                              1.0   \n...                    ...                              ...   \n474919            0.433330                              1.0   \n474920            0.088888                              0.0   \n474921            1.166657                              0.0   \n474922            0.599995                              0.0   \n474923            0.911104                              0.0   \n\n                        start_time_absolute  \\\n0       2022-11-09 17:23:58.383394560+01:00   \n1       2022-11-09 17:24:00.361156352+01:00   \n2       2022-11-09 17:24:44.571908864+01:00   \n3          2022-11-09 17:24:45.627456+01:00   \n4       2022-11-09 17:24:46.394116352+01:00   \n...                                     ...   \n474919  2022-12-06 18:37:47.147084032+01:00   \n474920  2022-12-06 18:37:47.291527168+01:00   \n474921  2022-12-06 18:37:48.580405760+01:00   \n474922  2022-12-06 18:37:49.313733120+01:00   \n474923  2022-12-06 18:37:50.280391936+01:00   \n\n                          end_time_absolute  \\\n0       2022-11-09 17:23:58.450060544+01:00   \n1       2022-11-09 17:24:00.505599488+01:00   \n2       2022-11-09 17:24:44.749685248+01:00   \n3       2022-11-09 17:24:45.671900160+01:00   \n4       2022-11-09 17:24:46.438560512+01:00   \n...                                     ...   \n474919  2022-12-06 18:37:47.202639104+01:00   \n474920  2022-12-06 18:37:47.413748480+01:00   \n474921  2022-12-06 18:37:48.713737984+01:00   \n474922  2022-12-06 18:37:49.369288192+01:00   \n474923  2022-12-06 18:37:50.347058176+01:00   \n\n        start_accumulated_orientation_windowed_variance  \\\n0                                                   NaN   \n1                                                   NaN   \n2                                                   NaN   \n3                                                   NaN   \n4                                                   NaN   \n...                                                 ...   \n474919                                         2.499966   \n474920                                         2.155910   \n474921                                         2.555698   \n474922                                         2.203824   \n474923                                         2.209414   \n\n        end_accumulated_orientation_windowed_variance  \n0                                                 NaN  \n1                                                 NaN  \n2                                                 NaN  \n3                                                 NaN  \n4                                                 NaN  \n...                                               ...  \n474919                                       1.164014  \n474920                                       1.396932  \n474921                                       1.155737  \n474922                                       1.392054  \n474923                                       1.303814  \n\n[474924 rows x 33 columns]",
      "text/html": "<div>\n<style scoped>\n    .dataframe tbody tr th:only-of-type {\n        vertical-align: middle;\n    }\n\n    .dataframe tbody tr th {\n        vertical-align: top;\n    }\n\n    .dataframe thead th {\n        text-align: right;\n    }\n</style>\n<table border=\"1\" class=\"dataframe\">\n  <thead>\n    <tr style=\"text-align: right;\">\n      <th></th>\n      <th>setup_index</th>\n      <th>arena_index</th>\n      <th>experiment_repeat</th>\n      <th>fish_ID</th>\n      <th>fish_name</th>\n      <th>fish_genotype</th>\n      <th>fish_age</th>\n      <th>stimulus_name</th>\n      <th>trial</th>\n      <th>start_time</th>\n      <th>...</th>\n      <th>y_position_change</th>\n      <th>distance_change</th>\n      <th>estimated_orientation_change</th>\n      <th>average_speed</th>\n      <th>interbout_interval</th>\n      <th>same_direction_as_previous_bout</th>\n      <th>start_time_absolute</th>\n      <th>end_time_absolute</th>\n      <th>start_accumulated_orientation_windowed_variance</th>\n      <th>end_accumulated_orientation_windowed_variance</th>\n    </tr>\n  </thead>\n  <tbody>\n    <tr>\n      <th>0</th>\n      <td>0</td>\n      <td>0</td>\n      <td>0</td>\n      <td>16</td>\n      <td>2022-11-09_17-20-25_setup0_arena0</td>\n      <td>WT</td>\n      <td>5 dpf</td>\n      <td>60_plaid_0</td>\n      <td>3</td>\n      <td>32.899434</td>\n      <td>...</td>\n      <td>NaN</td>\n      <td>NaN</td>\n      <td>NaN</td>\n      <td>NaN</td>\n      <td>NaN</td>\n      <td>NaN</td>\n      <td>2022-11-09 17:23:58.383394560+01:00</td>\n      <td>2022-11-09 17:23:58.450060544+01:00</td>\n      <td>NaN</td>\n      <td>NaN</td>\n    </tr>\n    <tr>\n      <th>1</th>\n      <td>0</td>\n      <td>0</td>\n      <td>0</td>\n      <td>16</td>\n      <td>2022-11-09_17-20-25_setup0_arena0</td>\n      <td>WT</td>\n      <td>5 dpf</td>\n      <td>60_plaid_0</td>\n      <td>3</td>\n      <td>34.877196</td>\n      <td>...</td>\n      <td>-0.022065</td>\n      <td>0.031111</td>\n      <td>58.890305</td>\n      <td>0.215385</td>\n      <td>1.911096</td>\n      <td>0.0</td>\n      <td>2022-11-09 17:24:00.361156352+01:00</td>\n      <td>2022-11-09 17:24:00.505599488+01:00</td>\n      <td>NaN</td>\n      <td>NaN</td>\n    </tr>\n    <tr>\n      <th>2</th>\n      <td>0</td>\n      <td>0</td>\n      <td>0</td>\n      <td>16</td>\n      <td>2022-11-09_17-20-25_setup0_arena0</td>\n      <td>WT</td>\n      <td>5 dpf</td>\n      <td>60_plaid_0</td>\n      <td>4</td>\n      <td>19.086126</td>\n      <td>...</td>\n      <td>0.002245</td>\n      <td>0.036542</td>\n      <td>70.626675</td>\n      <td>0.205551</td>\n      <td>44.066309</td>\n      <td>1.0</td>\n      <td>2022-11-09 17:24:44.571908864+01:00</td>\n      <td>2022-11-09 17:24:44.749685248+01:00</td>\n      <td>NaN</td>\n      <td>NaN</td>\n    </tr>\n    <tr>\n      <th>3</th>\n      <td>0</td>\n      <td>0</td>\n      <td>0</td>\n      <td>16</td>\n      <td>2022-11-09_17-20-25_setup0_arena0</td>\n      <td>WT</td>\n      <td>5 dpf</td>\n      <td>60_plaid_0</td>\n      <td>4</td>\n      <td>20.141673</td>\n      <td>...</td>\n      <td>-0.000932</td>\n      <td>0.007229</td>\n      <td>6.385437</td>\n      <td>0.162663</td>\n      <td>0.877771</td>\n      <td>1.0</td>\n      <td>2022-11-09 17:24:45.627456+01:00</td>\n      <td>2022-11-09 17:24:45.671900160+01:00</td>\n      <td>NaN</td>\n      <td>NaN</td>\n    </tr>\n    <tr>\n      <th>4</th>\n      <td>0</td>\n      <td>0</td>\n      <td>0</td>\n      <td>16</td>\n      <td>2022-11-09_17-20-25_setup0_arena0</td>\n      <td>WT</td>\n      <td>5 dpf</td>\n      <td>60_plaid_0</td>\n      <td>4</td>\n      <td>20.908333</td>\n      <td>...</td>\n      <td>0.000406</td>\n      <td>0.006540</td>\n      <td>5.680229</td>\n      <td>0.147150</td>\n      <td>0.722216</td>\n      <td>1.0</td>\n      <td>2022-11-09 17:24:46.394116352+01:00</td>\n      <td>2022-11-09 17:24:46.438560512+01:00</td>\n      <td>NaN</td>\n      <td>NaN</td>\n    </tr>\n    <tr>\n      <th>...</th>\n      <td>...</td>\n      <td>...</td>\n      <td>...</td>\n      <td>...</td>\n      <td>...</td>\n      <td>...</td>\n      <td>...</td>\n      <td>...</td>\n      <td>...</td>\n      <td>...</td>\n      <td>...</td>\n      <td>...</td>\n      <td>...</td>\n      <td>...</td>\n      <td>...</td>\n      <td>...</td>\n      <td>...</td>\n      <td>...</td>\n      <td>...</td>\n      <td>...</td>\n      <td>...</td>\n    </tr>\n    <tr>\n      <th>474919</th>\n      <td>1</td>\n      <td>6</td>\n      <td>0</td>\n      <td>152</td>\n      <td>2022-12-06_17-56-31_setup1_arena6</td>\n      <td>WT</td>\n      <td>5 dpf</td>\n      <td>60_plaid_0</td>\n      <td>41</td>\n      <td>15.778921</td>\n      <td>...</td>\n      <td>0.000500</td>\n      <td>0.004179</td>\n      <td>0.300847</td>\n      <td>0.075214</td>\n      <td>0.433330</td>\n      <td>1.0</td>\n      <td>2022-12-06 18:37:47.147084032+01:00</td>\n      <td>2022-12-06 18:37:47.202639104+01:00</td>\n      <td>2.499966</td>\n      <td>1.164014</td>\n    </tr>\n    <tr>\n      <th>474920</th>\n      <td>1</td>\n      <td>6</td>\n      <td>0</td>\n      <td>152</td>\n      <td>2022-12-06_17-56-31_setup1_arena6</td>\n      <td>WT</td>\n      <td>5 dpf</td>\n      <td>60_plaid_0</td>\n      <td>41</td>\n      <td>15.923364</td>\n      <td>...</td>\n      <td>0.000073</td>\n      <td>0.007753</td>\n      <td>-0.624565</td>\n      <td>0.063431</td>\n      <td>0.088888</td>\n      <td>0.0</td>\n      <td>2022-12-06 18:37:47.291527168+01:00</td>\n      <td>2022-12-06 18:37:47.413748480+01:00</td>\n      <td>2.155910</td>\n      <td>1.396932</td>\n    </tr>\n    <tr>\n      <th>474921</th>\n      <td>1</td>\n      <td>6</td>\n      <td>0</td>\n      <td>152</td>\n      <td>2022-12-06_17-56-31_setup1_arena6</td>\n      <td>WT</td>\n      <td>5 dpf</td>\n      <td>60_plaid_0</td>\n      <td>41</td>\n      <td>17.212243</td>\n      <td>...</td>\n      <td>0.000142</td>\n      <td>0.010726</td>\n      <td>0.704548</td>\n      <td>0.080444</td>\n      <td>1.166657</td>\n      <td>0.0</td>\n      <td>2022-12-06 18:37:48.580405760+01:00</td>\n      <td>2022-12-06 18:37:48.713737984+01:00</td>\n      <td>2.555698</td>\n      <td>1.155737</td>\n    </tr>\n    <tr>\n      <th>474922</th>\n      <td>1</td>\n      <td>6</td>\n      <td>0</td>\n      <td>152</td>\n      <td>2022-12-06_17-56-31_setup1_arena6</td>\n      <td>WT</td>\n      <td>5 dpf</td>\n      <td>60_plaid_0</td>\n      <td>41</td>\n      <td>17.945570</td>\n      <td>...</td>\n      <td>0.000078</td>\n      <td>0.005362</td>\n      <td>-0.477687</td>\n      <td>0.096525</td>\n      <td>0.599995</td>\n      <td>0.0</td>\n      <td>2022-12-06 18:37:49.313733120+01:00</td>\n      <td>2022-12-06 18:37:49.369288192+01:00</td>\n      <td>2.203824</td>\n      <td>1.392054</td>\n    </tr>\n    <tr>\n      <th>474923</th>\n      <td>1</td>\n      <td>6</td>\n      <td>0</td>\n      <td>152</td>\n      <td>2022-12-06_17-56-31_setup1_arena6</td>\n      <td>WT</td>\n      <td>5 dpf</td>\n      <td>60_plaid_0</td>\n      <td>41</td>\n      <td>18.912229</td>\n      <td>...</td>\n      <td>0.000365</td>\n      <td>0.007513</td>\n      <td>0.114023</td>\n      <td>0.112703</td>\n      <td>0.911104</td>\n      <td>0.0</td>\n      <td>2022-12-06 18:37:50.280391936+01:00</td>\n      <td>2022-12-06 18:37:50.347058176+01:00</td>\n      <td>2.209414</td>\n      <td>1.303814</td>\n    </tr>\n  </tbody>\n</table>\n<p>474924 rows × 33 columns</p>\n</div>"
     },
     "execution_count": 4,
     "metadata": {},
     "output_type": "execute_result"
    }
   ],
   "source": [
    "# reorder the data according to first fish_name, then trial.\n",
    "all_data.sort_values(by=['fish_name', 'trial'], inplace=True, ascending=True)\n",
    "all_data"
   ],
   "metadata": {
    "collapsed": false,
    "pycharm": {
     "name": "#%%\n"
    }
   }
  },
  {
   "cell_type": "code",
   "execution_count": 5,
   "outputs": [],
   "source": [
    "# split the data into optimum gray and stimulus."
   ],
   "metadata": {
    "collapsed": false,
    "pycharm": {
     "name": "#%%\n"
    }
   }
  },
  {
   "cell_type": "code",
   "execution_count": 6,
   "outputs": [],
   "source": [
    "# then get a dataframe with streak lengths, for:\n",
    "# 1. All data\n",
    "# 2. Optimum gray only\n",
    "# 3. Plaids, or whatever stimulus.\n"
   ],
   "metadata": {
    "collapsed": false,
    "pycharm": {
     "name": "#%%\n"
    }
   }
  },
  {
   "cell_type": "code",
   "execution_count": 7,
   "outputs": [],
   "source": [
    "# then get the values, from Ashrit's functions as you got berfore, mean and sem through a trial"
   ],
   "metadata": {
    "collapsed": false,
    "pycharm": {
     "name": "#%%\n"
    }
   }
  },
  {
   "cell_type": "code",
   "execution_count": 8,
   "outputs": [],
   "source": [
    "# Then we get similar to Ashrit's function, every other variable that I consider important"
   ],
   "metadata": {
    "collapsed": false,
    "pycharm": {
     "name": "#%%\n"
    }
   }
  },
  {
   "cell_type": "code",
   "execution_count": 9,
   "outputs": [],
   "source": [
    "# Then histograms, loads hahaha - the turning angle distributions for each configuration"
   ],
   "metadata": {
    "collapsed": false,
    "pycharm": {
     "name": "#%%\n"
    }
   }
  },
  {
   "cell_type": "code",
   "execution_count": 10,
   "outputs": [],
   "source": [
    "# then measure the streak length, and first a histogram, then the CDF and PDF whatever.\n",
    "# and then for each combination of stimuli, you add this after you get 8 direction data..."
   ],
   "metadata": {
    "collapsed": false,
    "pycharm": {
     "name": "#%%\n"
    }
   }
  },
  {
   "cell_type": "code",
   "execution_count": 11,
   "outputs": [
    {
     "data": {
      "text/plain": "Index(['setup_index', 'arena_index', 'experiment_repeat', 'fish_ID',\n       'fish_name', 'fish_genotype', 'fish_age', 'stimulus_name', 'trial',\n       'start_time', 'start_contour_area', 'start_x_position',\n       'start_y_position', 'start_accumulated_path',\n       'start_accumulated_orientation', 'end_time', 'end_contour_area',\n       'end_x_position', 'end_y_position', 'end_accumulated_path',\n       'end_accumulated_orientation', 'duration', 'x_position_change',\n       'y_position_change', 'distance_change', 'estimated_orientation_change',\n       'average_speed', 'interbout_interval',\n       'same_direction_as_previous_bout', 'start_time_absolute',\n       'end_time_absolute', 'start_accumulated_orientation_windowed_variance',\n       'end_accumulated_orientation_windowed_variance'],\n      dtype='object')"
     },
     "execution_count": 11,
     "metadata": {},
     "output_type": "execute_result"
    }
   ],
   "source": [
    "all_data.columns"
   ],
   "metadata": {
    "collapsed": false,
    "pycharm": {
     "name": "#%%\n"
    }
   }
  },
  {
   "cell_type": "code",
   "execution_count": null,
   "outputs": [],
   "source": [],
   "metadata": {
    "collapsed": false,
    "pycharm": {
     "name": "#%%\n"
    }
   }
  },
  {
   "cell_type": "code",
   "execution_count": null,
   "outputs": [],
   "source": [
    "def plot_pref(bin_df, pref='percentage_left', time_marker=None):\n",
    "    num_fish = len(bin_df.index.unique('fish_ID'))\n",
    "    t_stamp = bin_df.index.unique('binned_time')\n",
    "    bin_df = bin_df.reset_index()\n",
    "\n",
    "    mean_df = bin_df.groupby(['stimulus_name', 'binned_time']).mean()\n",
    "    sem_df = bin_df.groupby(['stimulus_name', 'binned_time']).std() / (num_fish) ** 0.5\n",
    "\n",
    "    legend = []\n",
    "    for stim in mean_df.index.unique('stimulus_name'):\n",
    "        legend.append(stim)\n",
    "\n",
    "        plot_mean_df = mean_df.xs(stim, level='stimulus_name')\n",
    "        plot_sem_df = sem_df.xs(stim, level='stimulus_name')\n",
    "\n",
    "        if pref == 'preference_index':\n",
    "            plt.plot(plot_mean_df.preference_index, marker='o', linewidth=1, markersize=2)\n",
    "            plt.fill_between(t_stamp, plot_mean_df.preference_index + plot_sem_df.preference_index,\n",
    "                             plot_mean_df.preference_index - plot_sem_df.preference_index,\n",
    "                             alpha=0.25, label='_no_legend_')\n",
    "        elif pref == 'percentage_left':\n",
    "            plt.plot(plot_mean_df.percentage_left, marker='o', linewidth=1, markersize=2)\n",
    "            plt.fill_between(t_stamp, plot_mean_df.percentage_left + plot_sem_df.percentage_left,\n",
    "                             plot_mean_df.percentage_left - plot_sem_df.percentage_left,\n",
    "                             alpha=0.25, label='_nolegend_')\n",
    "            plt.axhline(y=50, color='grey', linestyle='--', alpha=0.2, label='_nolegend_')\n",
    "            plt.ylim(0, 100)\n",
    "            plt.ylabel('Percentage left')\n",
    "            plt.xlabel('Time (s)')\n",
    "    if time_marker != None:\n",
    "        for t in time_marker:\n",
    "            plt.axvline(x=t, color='grey', linestyle='--', alpha=0.4, label='_nolegend_')\n",
    "\n",
    "    plt.legend(legend)\n",
    "    plt.show()\n",
    "\n",
    "    return plt"
   ],
   "metadata": {
    "collapsed": false,
    "pycharm": {
     "name": "#%%\n"
    }
   }
  },
  {
   "cell_type": "code",
   "execution_count": null,
   "outputs": [],
   "source": [
    "def plot_orientation(label_df, bins=50):\n",
    "    c = 0.7\n",
    "    for stim in label_df.index.unique('stimulus_name'):\n",
    "        temp_df = label_df.xs(stim, level='stimulus_name')\n",
    "\n",
    "        plt.hist(temp_df.orientation_change, bins=bins, range=[-180, 180],\n",
    "                 edgecolor='black', alpha=c - 0.1, )\n",
    "\n",
    "    plt.show()\n",
    "\n",
    "    return plt\n",
    "\n",
    "\n",
    "plot_orientation(label_df, bins=50)"
   ],
   "metadata": {
    "collapsed": false,
    "pycharm": {
     "name": "#%%\n"
    }
   }
  },
  {
   "cell_type": "code",
   "execution_count": null,
   "outputs": [],
   "source": [],
   "metadata": {
    "collapsed": false,
    "pycharm": {
     "name": "#%%\n"
    }
   }
  },
  {
   "cell_type": "code",
   "execution_count": null,
   "outputs": [],
   "source": [],
   "metadata": {
    "collapsed": false,
    "pycharm": {
     "name": "#%%\n"
    }
   }
  },
  {
   "cell_type": "code",
   "execution_count": null,
   "outputs": [],
   "source": [],
   "metadata": {
    "collapsed": false,
    "pycharm": {
     "name": "#%%\n"
    }
   }
  }
 ],
 "metadata": {
  "kernelspec": {
   "display_name": "Python 3",
   "language": "python",
   "name": "python3"
  },
  "language_info": {
   "codemirror_mode": {
    "name": "ipython",
    "version": 2
   },
   "file_extension": ".py",
   "mimetype": "text/x-python",
   "name": "python",
   "nbconvert_exporter": "python",
   "pygments_lexer": "ipython2",
   "version": "2.7.6"
  }
 },
 "nbformat": 4,
 "nbformat_minor": 0
}