{
 "cells": [
  {
   "cell_type": "markdown",
   "source": [],
   "metadata": {
    "collapsed": false,
    "pycharm": {
     "name": "#%% md\n"
    }
   }
  },
  {
   "cell_type": "code",
   "execution_count": 3,
   "metadata": {
    "collapsed": true,
    "pycharm": {
     "name": "#%%\n"
    }
   },
   "outputs": [
    {
     "name": "stdout",
     "output_type": "stream",
     "text": [
      "done all data\n"
     ]
    }
   ],
   "source": [
    "import datetime\n",
    "import h5py\n",
    "import numpy as np\n",
    "from matplotlib import pyplot as plt\n",
    "import pandas as pd\n",
    "from pathlib import Path\n",
    "import tables\n",
    "from tqdm import tqdm\n",
    "%matplotlib inline\n",
    "import random\n",
    "\n",
    "pd.options.mode.chained_assignment = None  # default='warn'\n",
    "\n",
    "df = pd.read_hdf(r\"C:\\Users\\ag-bahl\\Desktop\\sine_gratings_8_directions\\data_vers_2_labeling.hdf5\")\n",
    "df.reset_index(inplace = True)\n",
    "print('done all data')"
   ]
  },
  {
   "cell_type": "code",
   "execution_count": null,
   "outputs": [],
   "source": [
    "# split the data into optimum gray and stimulus. - to generalize, you split it into optimum grey and stimulus, then branch out for all stimuli\n",
    "# but now apparently we have before and and after grey. so within a trial you have to identify each because they could be different\n",
    "# 2022-12-20_15-21-26_setup0_arena0\n",
    "# and for each stimulus there is a gray first, then one of the eight. I could also have absolute time!  but we have time within a trial already?\n",
    "# so within each fish. and we go through trials."
   ],
   "metadata": {
    "collapsed": false,
    "pycharm": {
     "name": "#%%\n"
    }
   }
  },
  {
   "cell_type": "markdown",
   "source": [
    "We have 3 dataframes, before during and after. then we can have 24 such dataframes, for before during after for each stimulus."
   ],
   "metadata": {
    "collapsed": false,
    "pycharm": {
     "name": "#%% md\n"
    }
   }
  },
  {
   "cell_type": "code",
   "execution_count": null,
   "outputs": [],
   "source": [
    "# then get a dataframe with streak lengths, for:\n",
    "# 1. All data\n",
    "# 2. Optimum gray only\n",
    "# 3. Plaids, or whatever stimulus.\n",
    "# you want 8 dataframes,\n",
    "# you want to know when in the 2 hours thew fish saw what ( check for randomnity if it worked and how many times the fish saw each stimulus in total. how many sampled for each stimulus we have in total)\n",
    "# you want to remove the stupid 3-hour experiments!!! ( remove 1 hour from them! )\n",
    "# you want to get the pair trials, grey then the stimulus, and for each trial, intependendly look at and compare what the fish was doing\n",
    "# then get the values, from Ashrit's functions as you got berfore, mean and sem through a trial\n",
    "# Then we get similar to Ashrit's function, every other variable that I consider important\n",
    "# Then histograms, loads hahaha - the turning angle distributions for each configuration\n",
    "# then measure the streak length, and first a histogram, then the CDF and PDF whatever.\n",
    "# and then for each combination of stimuli, you add this after you get 8 direction data...\n",
    "\n",
    "# one dataframe looks ar grey vs stimulus regardless of when it happened!  another has 3 different scenarios, before, during, after.\n"
   ],
   "metadata": {
    "collapsed": false,
    "pycharm": {
     "name": "#%%\n"
    }
   }
  },
  {
   "cell_type": "code",
   "execution_count": 49,
   "outputs": [
    {
     "name": "stdout",
     "output_type": "stream",
     "text": [
      "done all data\n"
     ]
    }
   ],
   "source": [
    "df = pd.read_hdf(r\"C:\\Users\\ag-bahl\\Desktop\\sine_gratings_8_directions\\data_preprocessed_sine_8.hdf5\")\n",
    "df.reset_index(inplace = True)\n",
    "print('done all data')"
   ],
   "metadata": {
    "collapsed": false,
    "pycharm": {
     "name": "#%%\n"
    }
   }
  },
  {
   "cell_type": "code",
   "execution_count": 50,
   "outputs": [],
   "source": [
    "# lets just make a dataframe for each stimulus and have a cdf for each! a simple one! and compare them\n",
    "df_gray =df[df['stimulus_name']=='gray']\n",
    "df_motion_downward =df[df['stimulus_name']=='motion_downward']\n",
    "df_motion_forward =df[df['stimulus_name']=='motion_forward']\n",
    "df_motion_leftdown45 = df[df['stimulus_name']=='motion_leftdown45']\n",
    "df_motion_leftup45 = df[df['stimulus_name']=='motion_leftup45']\n",
    "df_motion_leftward = df[df['stimulus_name']=='motion_leftward']\n",
    "df_motion_rightdown45 = df[df['stimulus_name']=='motion_rightdown45']\n",
    "df_motion_rightup45 = df[df['stimulus_name']=='motion_rightup45']\n",
    "df_motion_rightward =  df[df['stimulus_name']=='motion_rightward']"
   ],
   "metadata": {
    "collapsed": false,
    "pycharm": {
     "name": "#%%\n"
    }
   }
  },
  {
   "cell_type": "code",
   "execution_count": 194,
   "outputs": [
    {
     "data": {
      "text/plain": "842535"
     },
     "execution_count": 194,
     "metadata": {},
     "output_type": "execute_result"
    }
   ],
   "source": [
    "len(df)"
   ],
   "metadata": {
    "collapsed": false,
    "pycharm": {
     "name": "#%%\n"
    }
   }
  },
  {
   "cell_type": "code",
   "execution_count": 195,
   "outputs": [],
   "source": [
    "df_sub1  = df[df['time']<=30]\n",
    "df_sub2 = df[df['time']>=40]\n",
    "df_sub = pd.concat([df_sub1,df_sub2])\n",
    "df_sub.sort_values(['fish_ID','index'], ascending=True,inplace = True)\n"
   ],
   "metadata": {
    "collapsed": false,
    "pycharm": {
     "name": "#%%\n"
    }
   }
  },
  {
   "cell_type": "code",
   "execution_count": 196,
   "outputs": [
    {
     "data": {
      "text/plain": "664476"
     },
     "execution_count": 196,
     "metadata": {},
     "output_type": "execute_result"
    }
   ],
   "source": [
    "len(df_sub)"
   ],
   "metadata": {
    "collapsed": false,
    "pycharm": {
     "name": "#%%\n"
    }
   }
  },
  {
   "cell_type": "code",
   "execution_count": 197,
   "outputs": [],
   "source": [
    "df_sub = df_sub[(df_sub['stimulus_name']=='motion_downward') | (df_sub['stimulus_name']=='motion_forward') | (df_sub['stimulus_name']=='motion_leftdown45') | (df_sub['stimulus_name']=='motion_leftup45') | (df_sub['stimulus_name']=='motion_leftward') | (df_sub['stimulus_name']=='motion_rightdown45') | (df_sub['stimulus_name']=='motion_rightup45') | (df_sub['stimulus_name']=='motion_rightward')]"
   ],
   "metadata": {
    "collapsed": false,
    "pycharm": {
     "name": "#%%\n"
    }
   }
  },
  {
   "cell_type": "code",
   "execution_count": 198,
   "outputs": [
    {
     "data": {
      "text/plain": "595080"
     },
     "execution_count": 198,
     "metadata": {},
     "output_type": "execute_result"
    }
   ],
   "source": [
    "len(df_sub)"
   ],
   "metadata": {
    "collapsed": false,
    "pycharm": {
     "name": "#%%\n"
    }
   }
  },
  {
   "cell_type": "code",
   "execution_count": 199,
   "outputs": [],
   "source": [
    "df_sub.reset_index(inplace = True)"
   ],
   "metadata": {
    "collapsed": false,
    "pycharm": {
     "name": "#%%\n"
    }
   }
  },
  {
   "cell_type": "code",
   "execution_count": 200,
   "outputs": [],
   "source": [
    "df_sub.sort_values(['fish_ID','index'], ascending=True,inplace = True)"
   ],
   "metadata": {
    "collapsed": false,
    "pycharm": {
     "name": "#%%\n"
    }
   }
  },
  {
   "cell_type": "code",
   "execution_count": null,
   "outputs": [],
   "source": [],
   "metadata": {
    "collapsed": false,
    "pycharm": {
     "name": "#%%\n"
    }
   }
  },
  {
   "cell_type": "code",
   "execution_count": 201,
   "outputs": [
    {
     "name": "stderr",
     "output_type": "stream",
     "text": [
      "100%|██████████| 595080/595080 [00:06<00:00, 94109.31it/s]\n"
     ]
    },
    {
     "name": "stdout",
     "output_type": "stream",
     "text": [
      "done separator\n"
     ]
    }
   ],
   "source": [
    "df # add column : 1,2,3 - first grey, sine grating, second grey,\n",
    "def separator(df):\n",
    "    sep_list = []\n",
    "    for i in tqdm(range(0,len(df))):\n",
    "        if ((df['time'][i]<10) or  (df['time'][i]>40)):\n",
    "            sep_list.append(1)\n",
    "        elif ((df['time'][i]>10) and (df['time'][i]<40)):\n",
    "            sep_list.append(2)\n",
    "        else:\n",
    "            sep_list.append(0)\n",
    "    df['separator'] = sep_list\n",
    "    print('done separator')\n",
    "    return df\n",
    "df =separator(df_sub)"
   ],
   "metadata": {
    "collapsed": false,
    "pycharm": {
     "name": "#%%\n"
    }
   }
  },
  {
   "cell_type": "code",
   "execution_count": 202,
   "outputs": [
    {
     "data": {
      "text/plain": "595080"
     },
     "execution_count": 202,
     "metadata": {},
     "output_type": "execute_result"
    }
   ],
   "source": [
    "len(df)"
   ],
   "metadata": {
    "collapsed": false,
    "pycharm": {
     "name": "#%%\n"
    }
   }
  },
  {
   "cell_type": "code",
   "execution_count": 203,
   "outputs": [],
   "source": [
    "df.sort_values(['fish_ID','index'], ascending=True,inplace = True)\n"
   ],
   "metadata": {
    "collapsed": false,
    "pycharm": {
     "name": "#%%\n"
    }
   }
  },
  {
   "cell_type": "code",
   "execution_count": 120,
   "outputs": [],
   "source": [
    "#list_of_directions = data['bout_orientation_absolute'].tolist()\n",
    "# we add that whenever fish id is changing we also change the streak length to 1.\n",
    "# do we care about streak length between trials and different stimulit, do we reset it?\n",
    "# we can also shuffle within fish and within trial or even within stimulus?\n",
    "# when we separate data into two dfs or 3, with the gray being left out you should also take care that they do not stitch together! this\n",
    "# will be already cared for when we design a function that considers fish id and\n",
    "# trial. so if we separate into many dataframes, then we will need to go through each trial and define which timepoints will reset the streak length. to make up for this stupid experiment, we stitch the 10 seconds of the last trial with the 10 of the next. so we have 20 seconds grey and 30 seconds stimulus.\n",
    "# so the list_of_directions in the end will be a list of lists, which the streak length function will go through by resetting the streak length every time a new list is iterated. whatever.\n",
    "# fish_ID, trial, time. # you set the time, the rest is automated. why trial? when we do no splitting, we reset the streak only when fish id changes.\n",
    "#  when we do the splitting, we get the timepoint windows that we want, except for the fish ids. in this case, we want timepoints from 40 to 10, and from 10 to 40. but separately.\n",
    "# numrat shkojne kshtu: 45,47,49,3,5,7,7,10,...,45,47,48,0,1,2,3\n",
    "\n",
    "def bouts_list(df):\n",
    "    list_of_fish_ids = df['fish_ID'].tolist() # you can also have a dataframe subset but it does not work with all the timepoint windows! you have thousands of trials!\n",
    "    list_of_all_dir = df['bout_orientation_absolute'] .tolist()\n",
    "    list_of_timepoints = df['time'].tolist()\n",
    "    trials = df['trial'].tolist()\n",
    "    borders = [10,40]\n",
    "    local_list = [list_of_timepoints[0]]\n",
    "    global_list = []\n",
    "    for i in range(1,len(list_of_timepoints)):\n",
    "        if ( ((list_of_timepoints[i-1]<borders[0]) and (list_of_timepoints[i]>borders[0])) or ((list_of_timepoints[i-1]<borders[1]) and (list_of_timepoints[i]>borders[1])) or ( (list_of_timepoints[i-1]>borders[1]) and (list_of_timepoints[i]>borders[0]) and (list_of_timepoints[i]<borders[1]) ) ):\n",
    "            global_list.append(local_list)\n",
    "            local_list = [list_of_all_dir[i]]\n",
    "        else:\n",
    "            local_list.append(list_of_all_dir[i])\n",
    "    global_list.append(local_list)\n",
    "    return global_list\n",
    "        # rasti kur mas 45 tjetra pergjigje osht 15. dmth sje tu kalu kufi  ne menyre eksplicite po je tu kalu kufi! nese vlera perpara osht mae madhe se 40, e ajo pas ma e vogel se 40, po ma e madhe se 10 lol\n",
    "    #if there is a cross in either border, you reset the list? compared to the value before?\n"
   ],
   "metadata": {
    "collapsed": false,
    "pycharm": {
     "name": "#%%\n"
    }
   }
  },
  {
   "cell_type": "code",
   "execution_count": 204,
   "outputs": [],
   "source": [
    "# here we assume the separator has already done its job!\n",
    "def bouts_list_v2(df):\n",
    "    list_of_fish_ids = df['fish_ID'].tolist() # you can also have a dataframe subset but it does not work with all the timepoint windows! you have thousands of trials!\n",
    "    list_of_all_dir = df['bout_orientation_absolute'] .tolist()\n",
    "    list_of_timepoints = df['time'].tolist()\n",
    "    trials = df['trial'].tolist()\n",
    "    separate = df['separator'].tolist()\n",
    "    borders = [10,40]\n",
    "    local_list = [list_of_timepoints[0]]\n",
    "    global_list = []\n",
    "    for i in range(1,len(df)):\n",
    "        if separate[i] !=separate[i-1]:\n",
    "            global_list.append(local_list)\n",
    "            local_list = [list_of_all_dir[i]]\n",
    "        elif separate[i] ==separate[i-1]:\n",
    "            local_list.append(list_of_all_dir[i])\n",
    "    global_list.append(local_list)\n",
    "    return global_list\n",
    "        # rasti kur mas 45 tjetra pergjigje osht 15. dmth sje tu kalu kufi  ne menyre eksplicite po je tu kalu kufi! nese vlera perpara osht mae madhe se 40, e ajo pas ma e vogel se 40, po ma e madhe se 10 lol\n",
    "    #if there is a cross in either border, you reset the list? compared to the value before?"
   ],
   "metadata": {
    "collapsed": false,
    "pycharm": {
     "name": "#%%\n"
    }
   }
  },
  {
   "cell_type": "code",
   "execution_count": 205,
   "outputs": [],
   "source": [
    "list_of_directions = bouts_list_v2(df)"
   ],
   "metadata": {
    "collapsed": false,
    "pycharm": {
     "name": "#%%\n"
    }
   }
  },
  {
   "cell_type": "code",
   "execution_count": 207,
   "outputs": [
    {
     "data": {
      "text/plain": "27233"
     },
     "execution_count": 207,
     "metadata": {},
     "output_type": "execute_result"
    }
   ],
   "source": [
    "len(list_of_directions)"
   ],
   "metadata": {
    "collapsed": false,
    "pycharm": {
     "name": "#%%\n"
    }
   }
  },
  {
   "cell_type": "code",
   "execution_count": 208,
   "outputs": [
    {
     "data": {
      "text/plain": "(array([9.020e+02, 1.918e+03, 2.651e+03, 2.395e+03, 3.589e+03, 3.958e+03,\n        3.016e+03, 3.337e+03, 2.402e+03, 1.356e+03, 1.016e+03, 3.430e+02,\n        1.510e+02, 5.700e+01, 5.200e+01, 3.700e+01, 2.400e+01, 1.500e+01,\n        6.000e+00, 6.000e+00, 1.000e+00, 0.000e+00, 0.000e+00, 0.000e+00,\n        0.000e+00, 0.000e+00, 0.000e+00, 0.000e+00, 0.000e+00, 1.000e+00]),\n array([  1. ,   4.7,   8.4,  12.1,  15.8,  19.5,  23.2,  26.9,  30.6,\n         34.3,  38. ,  41.7,  45.4,  49.1,  52.8,  56.5,  60.2,  63.9,\n         67.6,  71.3,  75. ,  78.7,  82.4,  86.1,  89.8,  93.5,  97.2,\n        100.9, 104.6, 108.3, 112. ]),\n <BarContainer object of 30 artists>)"
     },
     "execution_count": 208,
     "metadata": {},
     "output_type": "execute_result"
    },
    {
     "data": {
      "text/plain": "<Figure size 432x288 with 1 Axes>",
      "image/png": "[encoded data removed]"
     },
     "metadata": {
      "needs_background": "light"
     },
     "output_type": "display_data"
    }
   ],
   "source": [
    "lengths = []\n",
    "for el in list_of_directions:\n",
    "    lengths.append(len(el))\n",
    "plt.hist(lengths, bins = 30) # in 30 seconds there can be no more than 30 bouts!"
   ],
   "metadata": {
    "collapsed": false,
    "pycharm": {
     "name": "#%%\n"
    }
   }
  },
  {
   "cell_type": "code",
   "execution_count": 5,
   "outputs": [
    {
     "data": {
      "text/plain": "         index  setup_index  arena_index  experiment_repeat  fish_ID  \\\n0            0            2            0                  0        0   \n1            1            2            0                  0        0   \n2            2            2            0                  0        0   \n3            3            2            0                  0        0   \n4            4            2            0                  0        0   \n...        ...          ...          ...                ...      ...   \n842530  842530            1            7                  0      106   \n842531  842531            1            7                  0      106   \n842532  842532            1            7                  0      106   \n842533  842533            1            7                  0      106   \n842534  842534            1            7                  0      106   \n\n                              folder_name fish_genotype fish_age  \\\n0       2022-12-15_15-40-15_setup2_arena0            WT    5 dpf   \n1       2022-12-15_15-40-15_setup2_arena0            WT    5 dpf   \n2       2022-12-15_15-40-15_setup2_arena0            WT    5 dpf   \n3       2022-12-15_15-40-15_setup2_arena0            WT    5 dpf   \n4       2022-12-15_15-40-15_setup2_arena0            WT    5 dpf   \n...                                   ...           ...      ...   \n842530  2022-12-20_16-50-22_setup1_arena7            WT    5 dpf   \n842531  2022-12-20_16-50-22_setup1_arena7            WT    5 dpf   \n842532  2022-12-20_16-50-22_setup1_arena7            WT    5 dpf   \n842533  2022-12-20_16-50-22_setup1_arena7            WT    5 dpf   \n842534  2022-12-20_16-50-22_setup1_arena7            WT    5 dpf   \n\n           stimulus_name  trial  ...    radius  \\\n0                   gray      0  ...  0.828901   \n1                   gray      0  ...  0.810732   \n2                   gray      0  ...  0.802130   \n3                   gray      0  ...  0.799478   \n4                   gray      0  ...  0.785635   \n...                  ...    ...  ...       ...   \n842530  motion_rightward      7  ...  0.898744   \n842531  motion_rightward      7  ...  0.899167   \n842532  motion_rightward      7  ...  0.899097   \n842533  motion_rightward      7  ...  0.899143   \n842534  motion_rightward      7  ...  0.898986   \n\n       estimated_orientation_change_flipped       time left_bouts right_bouts  \\\n0                                -24.707858   0.978714        0.0         1.0   \n1                                 -5.445908   2.134261        0.0         1.0   \n2                                -36.886872   5.378679        0.0         1.0   \n3                                 -4.694998   6.578669        0.0         1.0   \n4                                 -0.539227   8.911983        0.0         0.0   \n...                                     ...        ...        ...         ...   \n842530                            -1.854388  45.813743        0.0         0.0   \n842531                             0.572336  46.524848        0.0         0.0   \n842532                             1.344777  48.191501        0.0         0.0   \n842533                             0.153143   49.48038        0.0         0.0   \n842534                             3.282394  49.747044        1.0         0.0   \n\n       straight_bouts bout_orientation bout_orientation_absolute  \\\n0                 0.0             -1.0                      -1.0   \n1                 0.0             -1.0                      -1.0   \n2                 0.0             -1.0                      -1.0   \n3                 0.0             -1.0                      -1.0   \n4                 1.0              0.0                      -1.0   \n...               ...              ...                       ...   \n842530            1.0              0.0                      -1.0   \n842531            1.0              0.0                       1.0   \n842532            1.0              0.0                       1.0   \n842533            1.0              0.0                       1.0   \n842534            0.0              1.0                       1.0   \n\n       left_bouts_absolute right_bouts_absolute  \n0                      0.0                  1.0  \n1                      0.0                  1.0  \n2                      0.0                  1.0  \n3                      0.0                  1.0  \n4                      0.0                  1.0  \n...                    ...                  ...  \n842530                 0.0                  1.0  \n842531                 1.0                  0.0  \n842532                 1.0                  0.0  \n842533                 1.0                  0.0  \n842534                 1.0                  0.0  \n\n[842535 rows x 44 columns]",
      "text/html": "<div>\n<style scoped>\n    .dataframe tbody tr th:only-of-type {\n        vertical-align: middle;\n    }\n\n    .dataframe tbody tr th {\n        vertical-align: top;\n    }\n\n    .dataframe thead th {\n        text-align: right;\n    }\n</style>\n<table border=\"1\" class=\"dataframe\">\n  <thead>\n    <tr style=\"text-align: right;\">\n      <th></th>\n      <th>index</th>\n      <th>setup_index</th>\n      <th>arena_index</th>\n      <th>experiment_repeat</th>\n      <th>fish_ID</th>\n      <th>folder_name</th>\n      <th>fish_genotype</th>\n      <th>fish_age</th>\n      <th>stimulus_name</th>\n      <th>trial</th>\n      <th>...</th>\n      <th>radius</th>\n      <th>estimated_orientation_change_flipped</th>\n      <th>time</th>\n      <th>left_bouts</th>\n      <th>right_bouts</th>\n      <th>straight_bouts</th>\n      <th>bout_orientation</th>\n      <th>bout_orientation_absolute</th>\n      <th>left_bouts_absolute</th>\n      <th>right_bouts_absolute</th>\n    </tr>\n  </thead>\n  <tbody>\n    <tr>\n      <th>0</th>\n      <td>0</td>\n      <td>2</td>\n      <td>0</td>\n      <td>0</td>\n      <td>0</td>\n      <td>2022-12-15_15-40-15_setup2_arena0</td>\n      <td>WT</td>\n      <td>5 dpf</td>\n      <td>gray</td>\n      <td>0</td>\n      <td>...</td>\n      <td>0.828901</td>\n      <td>-24.707858</td>\n      <td>0.978714</td>\n      <td>0.0</td>\n      <td>1.0</td>\n      <td>0.0</td>\n      <td>-1.0</td>\n      <td>-1.0</td>\n      <td>0.0</td>\n      <td>1.0</td>\n    </tr>\n    <tr>\n      <th>1</th>\n      <td>1</td>\n      <td>2</td>\n      <td>0</td>\n      <td>0</td>\n      <td>0</td>\n      <td>2022-12-15_15-40-15_setup2_arena0</td>\n      <td>WT</td>\n      <td>5 dpf</td>\n      <td>gray</td>\n      <td>0</td>\n      <td>...</td>\n      <td>0.810732</td>\n      <td>-5.445908</td>\n      <td>2.134261</td>\n      <td>0.0</td>\n      <td>1.0</td>\n      <td>0.0</td>\n      <td>-1.0</td>\n      <td>-1.0</td>\n      <td>0.0</td>\n      <td>1.0</td>\n    </tr>\n    <tr>\n      <th>2</th>\n      <td>2</td>\n      <td>2</td>\n      <td>0</td>\n      <td>0</td>\n      <td>0</td>\n      <td>2022-12-15_15-40-15_setup2_arena0</td>\n      <td>WT</td>\n      <td>5 dpf</td>\n      <td>gray</td>\n      <td>0</td>\n      <td>...</td>\n      <td>0.802130</td>\n      <td>-36.886872</td>\n      <td>5.378679</td>\n      <td>0.0</td>\n      <td>1.0</td>\n      <td>0.0</td>\n      <td>-1.0</td>\n      <td>-1.0</td>\n      <td>0.0</td>\n      <td>1.0</td>\n    </tr>\n    <tr>\n      <th>3</th>\n      <td>3</td>\n      <td>2</td>\n      <td>0</td>\n      <td>0</td>\n      <td>0</td>\n      <td>2022-12-15_15-40-15_setup2_arena0</td>\n      <td>WT</td>\n      <td>5 dpf</td>\n      <td>gray</td>\n      <td>0</td>\n      <td>...</td>\n      <td>0.799478</td>\n      <td>-4.694998</td>\n      <td>6.578669</td>\n      <td>0.0</td>\n      <td>1.0</td>\n      <td>0.0</td>\n      <td>-1.0</td>\n      <td>-1.0</td>\n      <td>0.0</td>\n      <td>1.0</td>\n    </tr>\n    <tr>\n      <th>4</th>\n      <td>4</td>\n      <td>2</td>\n      <td>0</td>\n      <td>0</td>\n      <td>0</td>\n      <td>2022-12-15_15-40-15_setup2_arena0</td>\n      <td>WT</td>\n      <td>5 dpf</td>\n      <td>gray</td>\n      <td>0</td>\n      <td>...</td>\n      <td>0.785635</td>\n      <td>-0.539227</td>\n      <td>8.911983</td>\n      <td>0.0</td>\n      <td>0.0</td>\n      <td>1.0</td>\n      <td>0.0</td>\n      <td>-1.0</td>\n      <td>0.0</td>\n      <td>1.0</td>\n    </tr>\n    <tr>\n      <th>...</th>\n      <td>...</td>\n      <td>...</td>\n      <td>...</td>\n      <td>...</td>\n      <td>...</td>\n      <td>...</td>\n      <td>...</td>\n      <td>...</td>\n      <td>...</td>\n      <td>...</td>\n      <td>...</td>\n      <td>...</td>\n      <td>...</td>\n      <td>...</td>\n      <td>...</td>\n      <td>...</td>\n      <td>...</td>\n      <td>...</td>\n      <td>...</td>\n      <td>...</td>\n      <td>...</td>\n    </tr>\n    <tr>\n      <th>842530</th>\n      <td>842530</td>\n      <td>1</td>\n      <td>7</td>\n      <td>0</td>\n      <td>106</td>\n      <td>2022-12-20_16-50-22_setup1_arena7</td>\n      <td>WT</td>\n      <td>5 dpf</td>\n      <td>motion_rightward</td>\n      <td>7</td>\n      <td>...</td>\n      <td>0.898744</td>\n      <td>-1.854388</td>\n      <td>45.813743</td>\n      <td>0.0</td>\n      <td>0.0</td>\n      <td>1.0</td>\n      <td>0.0</td>\n      <td>-1.0</td>\n      <td>0.0</td>\n      <td>1.0</td>\n    </tr>\n    <tr>\n      <th>842531</th>\n      <td>842531</td>\n      <td>1</td>\n      <td>7</td>\n      <td>0</td>\n      <td>106</td>\n      <td>2022-12-20_16-50-22_setup1_arena7</td>\n      <td>WT</td>\n      <td>5 dpf</td>\n      <td>motion_rightward</td>\n      <td>7</td>\n      <td>...</td>\n      <td>0.899167</td>\n      <td>0.572336</td>\n      <td>46.524848</td>\n      <td>0.0</td>\n      <td>0.0</td>\n      <td>1.0</td>\n      <td>0.0</td>\n      <td>1.0</td>\n      <td>1.0</td>\n      <td>0.0</td>\n    </tr>\n    <tr>\n      <th>842532</th>\n      <td>842532</td>\n      <td>1</td>\n      <td>7</td>\n      <td>0</td>\n      <td>106</td>\n      <td>2022-12-20_16-50-22_setup1_arena7</td>\n      <td>WT</td>\n      <td>5 dpf</td>\n      <td>motion_rightward</td>\n      <td>7</td>\n      <td>...</td>\n      <td>0.899097</td>\n      <td>1.344777</td>\n      <td>48.191501</td>\n      <td>0.0</td>\n      <td>0.0</td>\n      <td>1.0</td>\n      <td>0.0</td>\n      <td>1.0</td>\n      <td>1.0</td>\n      <td>0.0</td>\n    </tr>\n    <tr>\n      <th>842533</th>\n      <td>842533</td>\n      <td>1</td>\n      <td>7</td>\n      <td>0</td>\n      <td>106</td>\n      <td>2022-12-20_16-50-22_setup1_arena7</td>\n      <td>WT</td>\n      <td>5 dpf</td>\n      <td>motion_rightward</td>\n      <td>7</td>\n      <td>...</td>\n      <td>0.899143</td>\n      <td>0.153143</td>\n      <td>49.48038</td>\n      <td>0.0</td>\n      <td>0.0</td>\n      <td>1.0</td>\n      <td>0.0</td>\n      <td>1.0</td>\n      <td>1.0</td>\n      <td>0.0</td>\n    </tr>\n    <tr>\n      <th>842534</th>\n      <td>842534</td>\n      <td>1</td>\n      <td>7</td>\n      <td>0</td>\n      <td>106</td>\n      <td>2022-12-20_16-50-22_setup1_arena7</td>\n      <td>WT</td>\n      <td>5 dpf</td>\n      <td>motion_rightward</td>\n      <td>7</td>\n      <td>...</td>\n      <td>0.898986</td>\n      <td>3.282394</td>\n      <td>49.747044</td>\n      <td>1.0</td>\n      <td>0.0</td>\n      <td>0.0</td>\n      <td>1.0</td>\n      <td>1.0</td>\n      <td>1.0</td>\n      <td>0.0</td>\n    </tr>\n  </tbody>\n</table>\n<p>842535 rows × 44 columns</p>\n</div>"
     },
     "execution_count": 5,
     "metadata": {},
     "output_type": "execute_result"
    }
   ],
   "source": [
    "df"
   ],
   "metadata": {
    "collapsed": false,
    "pycharm": {
     "name": "#%%\n"
    }
   }
  },
  {
   "cell_type": "code",
   "execution_count": 27,
   "outputs": [
    {
     "data": {
      "text/plain": "(array([165563.,  63406.,  33452.,  19062.,  11545.,   7306.,   4805.,\n          3330.,   2371.,   1755.,   1336.,   1061.,    795.,    650.,\n           559.,    430.,    410.,    334.,    279.,    240.]),\n array([ 1.  ,  1.95,  2.9 ,  3.85,  4.8 ,  5.75,  6.7 ,  7.65,  8.6 ,\n         9.55, 10.5 , 11.45, 12.4 , 13.35, 14.3 , 15.25, 16.2 , 17.15,\n        18.1 , 19.05, 20.  ]),\n <BarContainer object of 20 artists>)"
     },
     "execution_count": 27,
     "metadata": {},
     "output_type": "execute_result"
    },
    {
     "data": {
      "text/plain": "<Figure size 432x288 with 1 Axes>",
      "image/png": "[encoded data removed]"
     },
     "metadata": {
      "needs_background": "light"
     },
     "output_type": "display_data"
    }
   ],
   "source": [
    "list_of_directions = df['bout_orientation_absolute']\n",
    "def streak_length(list_of_directions):\n",
    "    list_of_streaks = [] # i save here the length of the streak, defined as a_streak\n",
    "    a_streak = 1 # we keep track of each streak length here, and when the streak is done, we append it to the list_of_streaks. streak length is 1 if only one bout was done in that direction\n",
    "    for element in range(1,len(list_of_directions)): # we start from one bcs we compare with 0th element\n",
    "        if list_of_directions[element-1]==list_of_directions[element]:\n",
    "            a_streak += 1\n",
    "        else:\n",
    "            list_of_streaks.append(a_streak)\n",
    "            a_streak = 1\n",
    "    list_of_streaks.append(a_streak)\n",
    "    list_of_streaks = [x for x in list_of_streaks if x <= 20]\n",
    "    return list_of_streaks\n",
    "plt.hist(streak_length(list_of_directions),bins = 20)"
   ],
   "metadata": {
    "collapsed": false,
    "pycharm": {
     "name": "#%%\n"
    }
   }
  },
  {
   "cell_type": "code",
   "execution_count": 143,
   "outputs": [
    {
     "ename": "KeyError",
     "evalue": "0",
     "output_type": "error",
     "traceback": [
      "\u001B[1;31m---------------------------------------------------------------------------\u001B[0m",
      "\u001B[1;31mKeyError\u001B[0m                                  Traceback (most recent call last)",
      "File \u001B[1;32m~\\anaconda3\\envs\\py39\\lib\\site-packages\\pandas\\core\\indexes\\base.py:3621\u001B[0m, in \u001B[0;36mIndex.get_loc\u001B[1;34m(self, key, method, tolerance)\u001B[0m\n\u001B[0;32m   3620\u001B[0m \u001B[38;5;28;01mtry\u001B[39;00m:\n\u001B[1;32m-> 3621\u001B[0m     \u001B[38;5;28;01mreturn\u001B[39;00m \u001B[38;5;28;43mself\u001B[39;49m\u001B[38;5;241;43m.\u001B[39;49m\u001B[43m_engine\u001B[49m\u001B[38;5;241;43m.\u001B[39;49m\u001B[43mget_loc\u001B[49m\u001B[43m(\u001B[49m\u001B[43mcasted_key\u001B[49m\u001B[43m)\u001B[49m\n\u001B[0;32m   3622\u001B[0m \u001B[38;5;28;01mexcept\u001B[39;00m \u001B[38;5;167;01mKeyError\u001B[39;00m \u001B[38;5;28;01mas\u001B[39;00m err:\n",
      "File \u001B[1;32m~\\anaconda3\\envs\\py39\\lib\\site-packages\\pandas\\_libs\\index.pyx:136\u001B[0m, in \u001B[0;36mpandas._libs.index.IndexEngine.get_loc\u001B[1;34m()\u001B[0m\n",
      "File \u001B[1;32m~\\anaconda3\\envs\\py39\\lib\\site-packages\\pandas\\_libs\\index.pyx:163\u001B[0m, in \u001B[0;36mpandas._libs.index.IndexEngine.get_loc\u001B[1;34m()\u001B[0m\n",
      "File \u001B[1;32mpandas\\_libs\\hashtable_class_helper.pxi:5198\u001B[0m, in \u001B[0;36mpandas._libs.hashtable.PyObjectHashTable.get_item\u001B[1;34m()\u001B[0m\n",
      "File \u001B[1;32mpandas\\_libs\\hashtable_class_helper.pxi:5206\u001B[0m, in \u001B[0;36mpandas._libs.hashtable.PyObjectHashTable.get_item\u001B[1;34m()\u001B[0m\n",
      "\u001B[1;31mKeyError\u001B[0m: 0",
      "\nThe above exception was the direct cause of the following exception:\n",
      "\u001B[1;31mKeyError\u001B[0m                                  Traceback (most recent call last)",
      "Input \u001B[1;32mIn [143]\u001B[0m, in \u001B[0;36m<cell line: 16>\u001B[1;34m()\u001B[0m\n\u001B[0;32m     14\u001B[0m    \u001B[38;5;66;03m# list_of_streaks = [x for x in list_of_streaks if x <= 25]\u001B[39;00m\n\u001B[0;32m     15\u001B[0m     \u001B[38;5;28;01mreturn\u001B[39;00m list_of_streaks\n\u001B[1;32m---> 16\u001B[0m plt\u001B[38;5;241m.\u001B[39mhist(\u001B[43mstreak_length\u001B[49m\u001B[43m(\u001B[49m\u001B[43mdf\u001B[49m\u001B[43m)\u001B[49m, bins \u001B[38;5;241m=\u001B[39m \u001B[38;5;241m25\u001B[39m)\n",
      "Input \u001B[1;32mIn [125]\u001B[0m, in \u001B[0;36mstreak_length\u001B[1;34m(list_of_directions)\u001B[0m\n\u001B[0;32m      3\u001B[0m a_streak \u001B[38;5;241m=\u001B[39m \u001B[38;5;241m1\u001B[39m \u001B[38;5;66;03m# we keep track of each streak length here, and when the streak is done, we append it to the list_of_streaks. streak length is 1 if only one bout was done in that direction\u001B[39;00m\n\u001B[0;32m      4\u001B[0m \u001B[38;5;28;01mfor\u001B[39;00m element \u001B[38;5;129;01min\u001B[39;00m \u001B[38;5;28mrange\u001B[39m(\u001B[38;5;241m1\u001B[39m,\u001B[38;5;28mlen\u001B[39m(list_of_directions)): \u001B[38;5;66;03m# we start from one bcs we compare with 0th element\u001B[39;00m\n\u001B[1;32m----> 5\u001B[0m     \u001B[38;5;28;01mif\u001B[39;00m \u001B[43mlist_of_directions\u001B[49m\u001B[43m[\u001B[49m\u001B[43melement\u001B[49m\u001B[38;5;241;43m-\u001B[39;49m\u001B[38;5;241;43m1\u001B[39;49m\u001B[43m]\u001B[49m\u001B[38;5;241m==\u001B[39mlist_of_directions[element]:\n\u001B[0;32m      6\u001B[0m         a_streak \u001B[38;5;241m+\u001B[39m\u001B[38;5;241m=\u001B[39m \u001B[38;5;241m1\u001B[39m\n\u001B[0;32m      7\u001B[0m     \u001B[38;5;28;01melse\u001B[39;00m:\n",
      "File \u001B[1;32m~\\anaconda3\\envs\\py39\\lib\\site-packages\\pandas\\core\\frame.py:3505\u001B[0m, in \u001B[0;36mDataFrame.__getitem__\u001B[1;34m(self, key)\u001B[0m\n\u001B[0;32m   3503\u001B[0m \u001B[38;5;28;01mif\u001B[39;00m \u001B[38;5;28mself\u001B[39m\u001B[38;5;241m.\u001B[39mcolumns\u001B[38;5;241m.\u001B[39mnlevels \u001B[38;5;241m>\u001B[39m \u001B[38;5;241m1\u001B[39m:\n\u001B[0;32m   3504\u001B[0m     \u001B[38;5;28;01mreturn\u001B[39;00m \u001B[38;5;28mself\u001B[39m\u001B[38;5;241m.\u001B[39m_getitem_multilevel(key)\n\u001B[1;32m-> 3505\u001B[0m indexer \u001B[38;5;241m=\u001B[39m \u001B[38;5;28;43mself\u001B[39;49m\u001B[38;5;241;43m.\u001B[39;49m\u001B[43mcolumns\u001B[49m\u001B[38;5;241;43m.\u001B[39;49m\u001B[43mget_loc\u001B[49m\u001B[43m(\u001B[49m\u001B[43mkey\u001B[49m\u001B[43m)\u001B[49m\n\u001B[0;32m   3506\u001B[0m \u001B[38;5;28;01mif\u001B[39;00m is_integer(indexer):\n\u001B[0;32m   3507\u001B[0m     indexer \u001B[38;5;241m=\u001B[39m [indexer]\n",
      "File \u001B[1;32m~\\anaconda3\\envs\\py39\\lib\\site-packages\\pandas\\core\\indexes\\base.py:3623\u001B[0m, in \u001B[0;36mIndex.get_loc\u001B[1;34m(self, key, method, tolerance)\u001B[0m\n\u001B[0;32m   3621\u001B[0m     \u001B[38;5;28;01mreturn\u001B[39;00m \u001B[38;5;28mself\u001B[39m\u001B[38;5;241m.\u001B[39m_engine\u001B[38;5;241m.\u001B[39mget_loc(casted_key)\n\u001B[0;32m   3622\u001B[0m \u001B[38;5;28;01mexcept\u001B[39;00m \u001B[38;5;167;01mKeyError\u001B[39;00m \u001B[38;5;28;01mas\u001B[39;00m err:\n\u001B[1;32m-> 3623\u001B[0m     \u001B[38;5;28;01mraise\u001B[39;00m \u001B[38;5;167;01mKeyError\u001B[39;00m(key) \u001B[38;5;28;01mfrom\u001B[39;00m \u001B[38;5;21;01merr\u001B[39;00m\n\u001B[0;32m   3624\u001B[0m \u001B[38;5;28;01mexcept\u001B[39;00m \u001B[38;5;167;01mTypeError\u001B[39;00m:\n\u001B[0;32m   3625\u001B[0m     \u001B[38;5;66;03m# If we have a listlike key, _check_indexing_error will raise\u001B[39;00m\n\u001B[0;32m   3626\u001B[0m     \u001B[38;5;66;03m#  InvalidIndexError. Otherwise we fall through and re-raise\u001B[39;00m\n\u001B[0;32m   3627\u001B[0m     \u001B[38;5;66;03m#  the TypeError.\u001B[39;00m\n\u001B[0;32m   3628\u001B[0m     \u001B[38;5;28mself\u001B[39m\u001B[38;5;241m.\u001B[39m_check_indexing_error(key)\n",
      "\u001B[1;31mKeyError\u001B[0m: 0"
     ]
    }
   ],
   "source": [
    "def streak_length_v2(global_list):\n",
    "    list_of_streaks = [] # i save here the length of the streak, defined as a_streak\n",
    "    a_streak = 1 # we keep track of each streak length here, and when the streak is done, we append it to the list_of_streaks. streak length is 1 if only one bout was done in that direction\n",
    "    for list_of_directions in global_list():\n",
    "        for element in range(1,len(list_of_directions)): # we start from one bcs we compare with 0th element\n",
    "            if list_of_directions[element-1]==list_of_directions[element]:\n",
    "                a_streak += 1\n",
    "            else:\n",
    "                list_of_streaks.append(a_streak)\n",
    "                a_streak = 1\n",
    "        list_of_streaks.append(a_streak)\n",
    "        a_streak = 1\n",
    "    list_of_streaks.append((a_streak))\n",
    "   # list_of_streaks = [x for x in list_of_streaks if x <= 25]\n",
    "    return list_of_streaks\n",
    "plt.hist(streak_length(df), bins = 25)"
   ],
   "metadata": {
    "collapsed": false,
    "pycharm": {
     "name": "#%%\n"
    }
   }
  },
  {
   "cell_type": "code",
   "execution_count": null,
   "outputs": [],
   "source": [
    "# random and the others:\n",
    "#[1,1,1,-1,1,1,1,-1,1,-1,1,1,-1] # [3, 1, 3, 1, 1, 1, 2]\n",
    "#[3,1,3,1,1,1,2,1]\n",
    "\n",
    "#example 1: rlrlrlrl - only streaks of one, how does cdf look like\n",
    "#example 2: distribution of rrrlrrrlrrrl so biased on r\n",
    "#example 3: purely random distribution\n",
    ">>> my_list = [0]*20 + [1]*20\n",
    "\n",
    ">>> random.shuffle(my_list)"
   ],
   "metadata": {
    "collapsed": false,
    "pycharm": {
     "name": "#%%\n"
    }
   }
  },
  {
   "cell_type": "code",
   "execution_count": 51,
   "outputs": [],
   "source": [
    "# lets just make a dataframe for each stimulus and have a cdf for each! a simple one! and compare them\n",
    "df_gray =df[df['stimulus_name']=='gray']\n",
    "df_motion_downward =df[df['stimulus_name']=='motion_downward']\n",
    "df_motion_forward =df[df['stimulus_name']=='motion_forward']\n",
    "df_motion_leftdown45 = df[df['stimulus_name']=='motion_leftdown45']\n",
    "df_motion_leftup45 = df[df['stimulus_name']=='motion_leftup45']\n",
    "df_motion_leftward = df[df['stimulus_name']=='motion_leftward']\n",
    "df_motion_rightdown45 = df[df['stimulus_name']=='motion_rightdown45']\n",
    "df_motion_rightup45 = df[df['stimulus_name']=='motion_rightup45']\n",
    "df_motion_rightward =  df[df['stimulus_name']=='motion_rightward']"
   ],
   "metadata": {
    "collapsed": false,
    "pycharm": {
     "name": "#%%\n"
    }
   }
  },
  {
   "cell_type": "code",
   "execution_count": 105,
   "outputs": [
    {
     "data": {
      "text/plain": "[4, 6, 5, 9, 0, 2, 8, 1, 3, 7]"
     },
     "execution_count": 105,
     "metadata": {},
     "output_type": "execute_result"
    }
   ],
   "source": [
    "import random\n",
    "l = [0,1,2,3,4,5,6,7,8,9]\n",
    "random.sample(l,len(l))"
   ],
   "metadata": {
    "collapsed": false,
    "pycharm": {
     "name": "#%%\n"
    }
   }
  },
  {
   "cell_type": "code",
   "execution_count": 52,
   "outputs": [],
   "source": [
    "# list_of_directions = data['bout_orientation_absolute'].tolist()\n",
    "# data_list = streak_length(list_of_directions)\n",
    "# cdf_pdf(data_list) -->  return cdf,pdf, bins_count[1:]\n",
    "def plot_cdf(df):\n",
    "    list_of_directions = df['bout_orientation_absolute'].tolist()\n",
    "    data_list = streak_length(list_of_directions)\n",
    "    cdf_data,pdf_data,bins_data = cdf_pdf(data_list)\n",
    "    # now shuffled:\n",
    "    list_of_directions_shuffled =random.sample(list_of_directions,len(list_of_directions))\n",
    "    data_list = streak_length(list_of_directions_shuffled)\n",
    "    cdf_shuffled,pdf_shuffled,bins_shuffled = cdf_pdf(list_of_directions_shuffled)\n",
    "\n"
   ],
   "metadata": {
    "collapsed": false,
    "pycharm": {
     "name": "#%%\n"
    }
   }
  },
  {
   "cell_type": "code",
   "execution_count": 4,
   "outputs": [
    {
     "ename": "ValueError",
     "evalue": "cannot insert level_0, already exists",
     "output_type": "error",
     "traceback": [
      "\u001B[1;31m---------------------------------------------------------------------------\u001B[0m",
      "\u001B[1;31mValueError\u001B[0m                                Traceback (most recent call last)",
      "Input \u001B[1;32mIn [4]\u001B[0m, in \u001B[0;36m<cell line: 16>\u001B[1;34m()\u001B[0m\n\u001B[0;32m     12\u001B[0m    \u001B[38;5;66;03m# bin_df['left_bouts_absolute'] = (bin_df.left_bouts_absolute / bin_df.total_bouts)*100\u001B[39;00m\n\u001B[0;32m     13\u001B[0m    \u001B[38;5;66;03m# bin_df['right_bouts_absolute'] = (bin_df.right_bouts_absolute / bin_df.total_bouts)*100\u001B[39;00m\n\u001B[0;32m     14\u001B[0m    \u001B[38;5;66;03m# bin_df.to_csv(r\"C:\\Users\\ag-bahl\\Desktop\\dataframes\\binned_df\"+str(name_of_data)+\".csv\")\u001B[39;00m\n\u001B[0;32m     15\u001B[0m     \u001B[38;5;28;01mreturn\u001B[39;00m bin_df\n\u001B[1;32m---> 16\u001B[0m bin_df \u001B[38;5;241m=\u001B[39m \u001B[43mbin_data\u001B[49m\u001B[43m(\u001B[49m\u001B[43mdf\u001B[49m\u001B[43m,\u001B[49m\u001B[43m \u001B[49m\u001B[43mbin_size\u001B[49m\u001B[43m \u001B[49m\u001B[38;5;241;43m=\u001B[39;49m\u001B[43m \u001B[49m\u001B[38;5;241;43m1\u001B[39;49m\u001B[43m)\u001B[49m\n",
      "Input \u001B[1;32mIn [4]\u001B[0m, in \u001B[0;36mbin_data\u001B[1;34m(label_df, bin_size)\u001B[0m\n\u001B[0;32m      2\u001B[0m time_index \u001B[38;5;241m=\u001B[39m label_df[\u001B[38;5;124m'\u001B[39m\u001B[38;5;124mend_time\u001B[39m\u001B[38;5;124m'\u001B[39m]\n\u001B[0;32m      3\u001B[0m label_df[\u001B[38;5;124m'\u001B[39m\u001B[38;5;124mbinned_time\u001B[39m\u001B[38;5;124m'\u001B[39m] \u001B[38;5;241m=\u001B[39m time_index \u001B[38;5;241m-\u001B[39m time_index \u001B[38;5;241m%\u001B[39m bin_size \u001B[38;5;241m+\u001B[39m bin_size \u001B[38;5;241m/\u001B[39m \u001B[38;5;241m2\u001B[39m\n\u001B[1;32m----> 4\u001B[0m label_df \u001B[38;5;241m=\u001B[39m \u001B[43mlabel_df\u001B[49m\u001B[38;5;241;43m.\u001B[39;49m\u001B[43mreset_index\u001B[49m\u001B[43m(\u001B[49m\u001B[43m)\u001B[49m\n\u001B[0;32m      5\u001B[0m bin_df \u001B[38;5;241m=\u001B[39m label_df\u001B[38;5;241m.\u001B[39mgroupby([\u001B[38;5;124m'\u001B[39m\u001B[38;5;124mfish_ID\u001B[39m\u001B[38;5;124m'\u001B[39m, \u001B[38;5;124m'\u001B[39m\u001B[38;5;124mstimulus_name\u001B[39m\u001B[38;5;124m'\u001B[39m, \u001B[38;5;124m'\u001B[39m\u001B[38;5;124mbinned_time\u001B[39m\u001B[38;5;124m'\u001B[39m])\u001B[38;5;241m.\u001B[39msum()\n\u001B[0;32m      6\u001B[0m bin_df[\u001B[38;5;124m'\u001B[39m\u001B[38;5;124mtotal_bouts\u001B[39m\u001B[38;5;124m'\u001B[39m] \u001B[38;5;241m=\u001B[39m bin_df\u001B[38;5;241m.\u001B[39mleft_bouts \u001B[38;5;241m+\u001B[39m bin_df\u001B[38;5;241m.\u001B[39mright_bouts \u001B[38;5;241m+\u001B[39m bin_df\u001B[38;5;241m.\u001B[39mstraight_bouts\n",
      "File \u001B[1;32m~\\anaconda3\\envs\\py39\\lib\\site-packages\\pandas\\util\\_decorators.py:311\u001B[0m, in \u001B[0;36mdeprecate_nonkeyword_arguments.<locals>.decorate.<locals>.wrapper\u001B[1;34m(*args, **kwargs)\u001B[0m\n\u001B[0;32m    305\u001B[0m \u001B[38;5;28;01mif\u001B[39;00m \u001B[38;5;28mlen\u001B[39m(args) \u001B[38;5;241m>\u001B[39m num_allow_args:\n\u001B[0;32m    306\u001B[0m     warnings\u001B[38;5;241m.\u001B[39mwarn(\n\u001B[0;32m    307\u001B[0m         msg\u001B[38;5;241m.\u001B[39mformat(arguments\u001B[38;5;241m=\u001B[39marguments),\n\u001B[0;32m    308\u001B[0m         \u001B[38;5;167;01mFutureWarning\u001B[39;00m,\n\u001B[0;32m    309\u001B[0m         stacklevel\u001B[38;5;241m=\u001B[39mstacklevel,\n\u001B[0;32m    310\u001B[0m     )\n\u001B[1;32m--> 311\u001B[0m \u001B[38;5;28;01mreturn\u001B[39;00m func(\u001B[38;5;241m*\u001B[39margs, \u001B[38;5;241m*\u001B[39m\u001B[38;5;241m*\u001B[39mkwargs)\n",
      "File \u001B[1;32m~\\anaconda3\\envs\\py39\\lib\\site-packages\\pandas\\core\\frame.py:5845\u001B[0m, in \u001B[0;36mDataFrame.reset_index\u001B[1;34m(self, level, drop, inplace, col_level, col_fill)\u001B[0m\n\u001B[0;32m   5839\u001B[0m         \u001B[38;5;28;01mif\u001B[39;00m lab \u001B[38;5;129;01mis\u001B[39;00m \u001B[38;5;129;01mnot\u001B[39;00m \u001B[38;5;28;01mNone\u001B[39;00m:\n\u001B[0;32m   5840\u001B[0m             \u001B[38;5;66;03m# if we have the codes, extract the values with a mask\u001B[39;00m\n\u001B[0;32m   5841\u001B[0m             level_values \u001B[38;5;241m=\u001B[39m algorithms\u001B[38;5;241m.\u001B[39mtake(\n\u001B[0;32m   5842\u001B[0m                 level_values, lab, allow_fill\u001B[38;5;241m=\u001B[39m\u001B[38;5;28;01mTrue\u001B[39;00m, fill_value\u001B[38;5;241m=\u001B[39mlev\u001B[38;5;241m.\u001B[39m_na_value\n\u001B[0;32m   5843\u001B[0m             )\n\u001B[1;32m-> 5845\u001B[0m         \u001B[43mnew_obj\u001B[49m\u001B[38;5;241;43m.\u001B[39;49m\u001B[43minsert\u001B[49m\u001B[43m(\u001B[49m\u001B[38;5;241;43m0\u001B[39;49m\u001B[43m,\u001B[49m\u001B[43m \u001B[49m\u001B[43mname\u001B[49m\u001B[43m,\u001B[49m\u001B[43m \u001B[49m\u001B[43mlevel_values\u001B[49m\u001B[43m)\u001B[49m\n\u001B[0;32m   5847\u001B[0m new_obj\u001B[38;5;241m.\u001B[39mindex \u001B[38;5;241m=\u001B[39m new_index\n\u001B[0;32m   5848\u001B[0m \u001B[38;5;28;01mif\u001B[39;00m \u001B[38;5;129;01mnot\u001B[39;00m inplace:\n",
      "File \u001B[1;32m~\\anaconda3\\envs\\py39\\lib\\site-packages\\pandas\\core\\frame.py:4440\u001B[0m, in \u001B[0;36mDataFrame.insert\u001B[1;34m(self, loc, column, value, allow_duplicates)\u001B[0m\n\u001B[0;32m   4434\u001B[0m     \u001B[38;5;28;01mraise\u001B[39;00m \u001B[38;5;167;01mValueError\u001B[39;00m(\n\u001B[0;32m   4435\u001B[0m         \u001B[38;5;124m\"\u001B[39m\u001B[38;5;124mCannot specify \u001B[39m\u001B[38;5;124m'\u001B[39m\u001B[38;5;124mallow_duplicates=True\u001B[39m\u001B[38;5;124m'\u001B[39m\u001B[38;5;124m when \u001B[39m\u001B[38;5;124m\"\u001B[39m\n\u001B[0;32m   4436\u001B[0m         \u001B[38;5;124m\"\u001B[39m\u001B[38;5;124m'\u001B[39m\u001B[38;5;124mself.flags.allows_duplicate_labels\u001B[39m\u001B[38;5;124m'\u001B[39m\u001B[38;5;124m is False.\u001B[39m\u001B[38;5;124m\"\u001B[39m\n\u001B[0;32m   4437\u001B[0m     )\n\u001B[0;32m   4438\u001B[0m \u001B[38;5;28;01mif\u001B[39;00m \u001B[38;5;129;01mnot\u001B[39;00m allow_duplicates \u001B[38;5;129;01mand\u001B[39;00m column \u001B[38;5;129;01min\u001B[39;00m \u001B[38;5;28mself\u001B[39m\u001B[38;5;241m.\u001B[39mcolumns:\n\u001B[0;32m   4439\u001B[0m     \u001B[38;5;66;03m# Should this be a different kind of error??\u001B[39;00m\n\u001B[1;32m-> 4440\u001B[0m     \u001B[38;5;28;01mraise\u001B[39;00m \u001B[38;5;167;01mValueError\u001B[39;00m(\u001B[38;5;124mf\u001B[39m\u001B[38;5;124m\"\u001B[39m\u001B[38;5;124mcannot insert \u001B[39m\u001B[38;5;132;01m{\u001B[39;00mcolumn\u001B[38;5;132;01m}\u001B[39;00m\u001B[38;5;124m, already exists\u001B[39m\u001B[38;5;124m\"\u001B[39m)\n\u001B[0;32m   4441\u001B[0m \u001B[38;5;28;01mif\u001B[39;00m \u001B[38;5;129;01mnot\u001B[39;00m \u001B[38;5;28misinstance\u001B[39m(loc, \u001B[38;5;28mint\u001B[39m):\n\u001B[0;32m   4442\u001B[0m     \u001B[38;5;28;01mraise\u001B[39;00m \u001B[38;5;167;01mTypeError\u001B[39;00m(\u001B[38;5;124m\"\u001B[39m\u001B[38;5;124mloc must be int\u001B[39m\u001B[38;5;124m\"\u001B[39m)\n",
      "\u001B[1;31mValueError\u001B[0m: cannot insert level_0, already exists"
     ]
    }
   ],
   "source": [
    "def bin_data(label_df, bin_size = 1): # why did i add name_of_data here???\n",
    "    time_index = label_df['end_time']\n",
    "    label_df['binned_time'] = time_index - time_index % bin_size + bin_size / 2\n",
    "    label_df = label_df.reset_index()\n",
    "    bin_df = label_df.groupby(['fish_ID', 'stimulus_name', 'binned_time']).sum()\n",
    "    bin_df['total_bouts'] = bin_df.left_bouts + bin_df.right_bouts + bin_df.straight_bouts\n",
    "    #Analysed part:\n",
    "    bin_df['preference_index'] = (bin_df.left_bouts - (bin_df.right_bouts + bin_df.straight_bouts))/bin_df.total_bouts\n",
    "    bin_df['percentage_left'] = (bin_df.left_bouts / bin_df.total_bouts)*100\n",
    "    bin_df['percentage_right'] = (bin_df.left_bouts / bin_df.total_bouts)*100\n",
    "    bin_df['percentage_straight'] = (bin_df.left_bouts / bin_df.total_bouts)*100\n",
    "   # bin_df['left_bouts_absolute'] = (bin_df.left_bouts_absolute / bin_df.total_bouts)*100\n",
    "   # bin_df['right_bouts_absolute'] = (bin_df.right_bouts_absolute / bin_df.total_bouts)*100\n",
    "   # bin_df.to_csv(r\"C:\\Users\\ag-bahl\\Desktop\\dataframes\\binned_df\"+str(name_of_data)+\".csv\")\n",
    "    return bin_df\n",
    "bin_df = bin_data(df, bin_size = 1)"
   ],
   "metadata": {
    "collapsed": false,
    "pycharm": {
     "name": "#%%\n"
    }
   }
  },
  {
   "cell_type": "code",
   "execution_count": 64,
   "outputs": [
    {
     "data": {
      "text/plain": "Index(['gray', 'motion_downward', 'motion_forward', 'motion_leftdown45',\n       'motion_leftup45', 'motion_leftward', 'motion_rightdown45',\n       'motion_rightup45', 'motion_rightward'],\n      dtype='object', name='stimulus_name')"
     },
     "execution_count": 64,
     "metadata": {},
     "output_type": "execute_result"
    }
   ],
   "source": [
    "num_fish = bin_df.index.unique('stimulus_name')"
   ],
   "metadata": {
    "collapsed": false,
    "pycharm": {
     "name": "#%%\n"
    }
   }
  },
  {
   "cell_type": "code",
   "execution_count": null,
   "outputs": [],
   "source": [
    "plt.rcParams[\"figure.figsize\"] = (20,20)\n",
    "\n",
    "def plot_pref(bin_df, pref='preference_index', time_marker=None,plot_together = True):\n",
    "    num_fish = len(bin_df.index.unique('fish_ID'))\n",
    "    t_stamp = bin_df.index.unique('binned_time')\n",
    "    bin_df = bin_df.reset_index()\n",
    "\n",
    "    mean_df = bin_df.groupby(['stimulus_name', 'binned_time']).mean()\n",
    "    sem_df = bin_df.groupby(['stimulus_name', 'binned_time']).std() / (num_fish) ** 0.5\n",
    "    if plot_together == True:\n",
    "        legend = []\n",
    "    colors = ['red','purple','cyan','green','orange','blue','pink','brown','violet','red','cyan']\n",
    " #   for variable in\n",
    "    iterate = mean_df.index.unique('stimulus_name')\n",
    "    for stim in range(len(iterate)):\n",
    "        if plot_together == True:\n",
    "            legend.append(str(iterate[stim]))\n",
    "        else:\n",
    "            legend = [str(iterate[stim])]\n",
    "        plot_mean_df = mean_df.xs(iterate[stim], level='stimulus_name')\n",
    "        plot_sem_df = sem_df.xs(iterate[stim], level='stimulus_name')\n",
    "\n",
    "        plt.plot(plot_mean_df.preference_index, marker='o', linewidth=1, markersize=2,color = colors[stim])\n",
    "        plt.fill_between(t_stamp, plot_mean_df.preference_index + plot_sem_df.preference_index,\n",
    "                         plot_mean_df.preference_index - plot_sem_df.preference_index,\n",
    "                         alpha=0.25, label='_no_legend_',color = colors[stim])\n",
    "\n",
    "\n",
    "     #   plt.legend(legend)\n",
    "     #   plt.show()\n",
    "    if time_marker != None:\n",
    "        for t in time_marker:\n",
    "            plt.axvline(x=t, color='grey', linestyle='--', alpha=0.4, label='_nolegend_')\n",
    "    plt.plot([0,0],[-1,1], color = 'blue')\n",
    "    plt.legend(legend)\n",
    "    plt.title('Sine gratings 8 directions',size = 20)\n",
    "    plt.xlabel('Time (seconds)', size = 20)\n",
    "    plt.ylabel('Orientation', size = 20)\n",
    "    plt.show()\n",
    "\n",
    "    return plt\n"
   ],
   "metadata": {
    "collapsed": false,
    "pycharm": {
     "name": "#%%\n"
    }
   }
  },
  {
   "cell_type": "code",
   "execution_count": 5,
   "outputs": [
    {
     "ename": "NameError",
     "evalue": "name 'plot_pref' is not defined",
     "output_type": "error",
     "traceback": [
      "\u001B[1;31m---------------------------------------------------------------------------\u001B[0m",
      "\u001B[1;31mNameError\u001B[0m                                 Traceback (most recent call last)",
      "Input \u001B[1;32mIn [5]\u001B[0m, in \u001B[0;36m<cell line: 2>\u001B[1;34m()\u001B[0m\n\u001B[0;32m      1\u001B[0m plt\u001B[38;5;241m.\u001B[39mrcParams[\u001B[38;5;124m\"\u001B[39m\u001B[38;5;124mfigure.figsize\u001B[39m\u001B[38;5;124m\"\u001B[39m] \u001B[38;5;241m=\u001B[39m (\u001B[38;5;241m12\u001B[39m,\u001B[38;5;241m12\u001B[39m)\n\u001B[1;32m----> 2\u001B[0m \u001B[43mplot_pref\u001B[49m(bin_df, pref\u001B[38;5;241m=\u001B[39m\u001B[38;5;124m'\u001B[39m\u001B[38;5;124mpreference_index\u001B[39m\u001B[38;5;124m'\u001B[39m, time_marker\u001B[38;5;241m=\u001B[39m\u001B[38;5;28;01mNone\u001B[39;00m)\n",
      "\u001B[1;31mNameError\u001B[0m: name 'plot_pref' is not defined"
     ]
    }
   ],
   "source": [
    "plt.rcParams[\"figure.figsize\"] = (12,12)\n",
    "plot_pref(bin_df, pref='preference_index', time_marker=None)\n"
   ],
   "metadata": {
    "collapsed": false,
    "pycharm": {
     "name": "#%%\n"
    }
   }
  },
  {
   "cell_type": "code",
   "execution_count": 56,
   "outputs": [
    {
     "ename": "NameError",
     "evalue": "name 'bin_df' is not defined",
     "output_type": "error",
     "traceback": [
      "\u001B[1;31m---------------------------------------------------------------------------\u001B[0m",
      "\u001B[1;31mNameError\u001B[0m                                 Traceback (most recent call last)",
      "Input \u001B[1;32mIn [56]\u001B[0m, in \u001B[0;36m<cell line: 1>\u001B[1;34m()\u001B[0m\n\u001B[1;32m----> 1\u001B[0m plot_pref(\u001B[43mbin_df\u001B[49m, pref\u001B[38;5;241m=\u001B[39m\u001B[38;5;124m'\u001B[39m\u001B[38;5;124mpreference_index\u001B[39m\u001B[38;5;124m'\u001B[39m, time_marker\u001B[38;5;241m=\u001B[39m\u001B[38;5;28;01mNone\u001B[39;00m)\n",
      "\u001B[1;31mNameError\u001B[0m: name 'bin_df' is not defined"
     ]
    }
   ],
   "source": [
    "plot_pref(bin_df, pref='preference_index', time_marker=None)"
   ],
   "metadata": {
    "collapsed": false,
    "pycharm": {
     "name": "#%%\n"
    }
   }
  },
  {
   "cell_type": "code",
   "execution_count": null,
   "outputs": [],
   "source": [
    "def plot_pref(bin_df, pref='percentage_left', time_marker=None):\n",
    "    num_fish = len(bin_df.index.unique('fish_ID'))\n",
    "    t_stamp = bin_df.index.unique('binned_time')\n",
    "    bin_df = bin_df.reset_index()\n",
    "\n",
    "    mean_df = bin_df.groupby(['stimulus_name', 'binned_time']).mean()\n",
    "    sem_df = bin_df.groupby(['stimulus_name', 'binned_time']).std() / (num_fish) ** 0.5\n",
    "\n",
    "    legend = []\n",
    "    for stim in mean_df.index.unique('stimulus_name'):\n",
    "        legend.append(stim)\n",
    "\n",
    "        plot_mean_df = mean_df.xs(stim, level='stimulus_name')\n",
    "        plot_sem_df = sem_df.xs(stim, level='stimulus_name')\n",
    "\n",
    "        if pref == 'preference_index':\n",
    "            plt.plot(plot_mean_df.preference_index, marker='o', linewidth=1, markersize=2)\n",
    "            plt.fill_between(t_stamp, plot_mean_df.preference_index + plot_sem_df.preference_index,\n",
    "                             plot_mean_df.preference_index - plot_sem_df.preference_index,\n",
    "                             alpha=0.25, label='_no_legend_')\n",
    "        elif pref == 'percentage_left':\n",
    "            plt.plot(plot_mean_df.percentage_left, marker='o', linewidth=1, markersize=2)\n",
    "            plt.fill_between(t_stamp, plot_mean_df.percentage_left + plot_sem_df.percentage_left,\n",
    "                             plot_mean_df.percentage_left - plot_sem_df.percentage_left,\n",
    "                             alpha=0.25, label='_nolegend_')\n",
    "            plt.axhline(y=50, color='grey', linestyle='--', alpha=0.2, label='_nolegend_')\n",
    "            plt.ylim(0, 100)\n",
    "            plt.ylabel('Percentage left')\n",
    "            plt.xlabel('Time (s)')\n",
    "    if time_marker != None:\n",
    "        for t in time_marker:\n",
    "            plt.axvline(x=t, color='grey', linestyle='--', alpha=0.4, label='_nolegend_')\n",
    "\n",
    "    plt.legend(legend)\n",
    "    plt.show()\n",
    "\n",
    "    return plt"
   ],
   "metadata": {
    "collapsed": false,
    "pycharm": {
     "name": "#%%\n"
    }
   }
  },
  {
   "cell_type": "code",
   "execution_count": null,
   "outputs": [],
   "source": [
    "def plot_orientation(label_df, bins=50):\n",
    "    c = 0.7\n",
    "    for stim in label_df.index.unique('stimulus_name'):\n",
    "        temp_df = label_df.xs(stim, level='stimulus_name')\n",
    "\n",
    "        plt.hist(temp_df.orientation_change, bins=bins, range=[-180, 180],\n",
    "                 edgecolor='black', alpha=c - 0.1, )\n",
    "\n",
    "    plt.show()\n",
    "\n",
    "    return plt\n",
    "\n",
    "\n",
    "plot_orientation(label_df, bins=50)"
   ],
   "metadata": {
    "collapsed": false,
    "pycharm": {
     "name": "#%%\n"
    }
   }
  }
 ],
 "metadata": {
  "kernelspec": {
   "display_name": "Python 3",
   "language": "python",
   "name": "python3"
  },
  "language_info": {
   "codemirror_mode": {
    "name": "ipython",
    "version": 2
   },
   "file_extension": ".py",
   "mimetype": "text/x-python",
   "name": "python",
   "nbconvert_exporter": "python",
   "pygments_lexer": "ipython2",
   "version": "2.7.6"
  }
 },
 "nbformat": 4,
 "nbformat_minor": 0
}